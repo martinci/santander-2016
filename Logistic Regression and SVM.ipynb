{
 "cells": [
  {
   "cell_type": "markdown",
   "metadata": {},
   "source": [
    "# Logistic Classification and SVM\n",
    "\n",
    "In this notebook we analyze the performance of SVM and logistic regression classifiers.\n",
    "We work with two data sets, train.csv and train_saldo.csv in order to compare."
   ]
  },
  {
   "cell_type": "code",
   "execution_count": 2,
   "metadata": {
    "collapsed": false
   },
   "outputs": [],
   "source": [
    "import pandas as pd\n",
    "import numpy as np\n",
    "import pickle\n",
    "import matplotlib.pyplot as plt\n",
    "import seaborn as sns\n",
    "%matplotlib inline"
   ]
  },
  {
   "cell_type": "code",
   "execution_count": 3,
   "metadata": {
    "collapsed": false
   },
   "outputs": [],
   "source": [
    "from process_data import process"
   ]
  },
  {
   "cell_type": "code",
   "execution_count": 4,
   "metadata": {
    "collapsed": true
   },
   "outputs": [],
   "source": [
    "from sklearn.linear_model import ElasticNetCV"
   ]
  },
  {
   "cell_type": "code",
   "execution_count": 19,
   "metadata": {
    "collapsed": false
   },
   "outputs": [],
   "source": [
    "from sklearn.svm import SVC\n",
    "# the data doesn't seem to be linear so svc with other kernels should perform better"
   ]
  },
  {
   "cell_type": "code",
   "execution_count": 6,
   "metadata": {
    "collapsed": true
   },
   "outputs": [],
   "source": [
    "from sklearn.model_selection import train_test_split\n",
    "from sklearn.metrics import roc_auc_score"
   ]
  },
  {
   "cell_type": "markdown",
   "metadata": {},
   "source": [
    "## Original data set with minor data cleaning"
   ]
  },
  {
   "cell_type": "code",
   "execution_count": 7,
   "metadata": {
    "collapsed": true
   },
   "outputs": [],
   "source": [
    "data = pd.read_csv('data/train.csv')"
   ]
  },
  {
   "cell_type": "code",
   "execution_count": 8,
   "metadata": {
    "collapsed": true
   },
   "outputs": [],
   "source": [
    "process(data)"
   ]
  },
  {
   "cell_type": "code",
   "execution_count": 9,
   "metadata": {
    "collapsed": true
   },
   "outputs": [],
   "source": [
    "train, test = train_test_split(data, test_size = 0.2, random_state = 42)"
   ]
  },
  {
   "cell_type": "code",
   "execution_count": 10,
   "metadata": {
    "collapsed": true
   },
   "outputs": [],
   "source": [
    "X_train, Y_train = train.ix[:,:-1], train.ix[:,-1]"
   ]
  },
  {
   "cell_type": "code",
   "execution_count": 11,
   "metadata": {
    "collapsed": true
   },
   "outputs": [],
   "source": [
    "X_test, Y_test = test.ix[:,:-1], test.ix[:,-1]"
   ]
  },
  {
   "cell_type": "markdown",
   "metadata": {},
   "source": [
    "### Logistic Regression with Elastic Net"
   ]
  },
  {
   "cell_type": "code",
   "execution_count": 12,
   "metadata": {
    "collapsed": false,
    "scrolled": false
   },
   "outputs": [
    {
     "name": "stdout",
     "output_type": "stream",
     "text": [
      "l1 = 0.503062458398916 --> auc_roc = 0.7757108358457353\n",
      "l1 = 0.7088061293062852 --> auc_roc = 0.7763818568031909\n",
      "l1 = 0.8420374910457782 --> auc_roc = 0.7769160325986055\n",
      "l1 = 0.8420770050705878 --> auc_roc = 0.7769164840465628\n",
      "l1 = 0.46407039051341126 --> auc_roc = 0.7756097115033115\n",
      "l1 = 0.49800071513799826 --> auc_roc = 0.7756809274185675\n",
      "l1 = 0.014719766813581892 --> auc_roc = 0.7750337767718514\n",
      "l1 = 0.23098261285284338 --> auc_roc = 0.7755213405656801\n",
      "l1 = 0.026785667339553454 --> auc_roc = 0.77808116334527\n",
      "l1 = 0.19001397334145875 --> auc_roc = 0.7748064727253766\n"
     ]
    }
   ],
   "source": [
    "lg_classifiers = [] # list [[lg, score]]\n",
    "for _ in range(10):\n",
    "    l1 = np.random.rand()\n",
    "    lg = ElasticNetCV(l1, n_alphas=200, max_iter=1000, tol=1e-4, normalize=True)\n",
    "    lg.fit(X_train,Y_train)\n",
    "    Y_pred = lg.predict(X_test)\n",
    "    score = roc_auc_score(Y_test,Y_pred)\n",
    "    lg_classifiers.append([lg, score])\n",
    "    print('l1 = {} --> auc_roc = {}'.format(l1, score))"
   ]
  },
  {
   "cell_type": "code",
   "execution_count": 14,
   "metadata": {
    "collapsed": false
   },
   "outputs": [],
   "source": [
    "# save the classifiers for later use\n",
    "pickle.dump(lg_classifiers, open(\"models/lg_classifier_param1.dat\", 'wb'))"
   ]
  },
  {
   "cell_type": "markdown",
   "metadata": {},
   "source": [
    "### Support Vector Machine"
   ]
  },
  {
   "cell_type": "code",
   "execution_count": null,
   "metadata": {
    "collapsed": false
   },
   "outputs": [],
   "source": [
    "svm_classifiers = [] # list [[svm, score]]\n",
    "for _ in range(10):\n",
    "    C = np.random.randint(1,101)\n",
    "    svm = SVC(C, tol=1e-3, kernel='linear', class_weight='balanced')\n",
    "    svm.fit(X_train,Y_train)\n",
    "    Y_pred = svm.predict(X_test)\n",
    "    score = roc_auc_score(Y_test,Y_pred)\n",
    "    svm_classifiers.append([lg, score])\n",
    "    print('C = {} --> auc_roc = {}'.format(C, score))"
   ]
  },
  {
   "cell_type": "code",
   "execution_count": null,
   "metadata": {
    "collapsed": true
   },
   "outputs": [],
   "source": [
    "# save the classifiers for later use\n",
    "pickle.dump(svm_classfiers, open(\"models/svm_classifier_param1.dat\", 'wb'))"
   ]
  },
  {
   "cell_type": "markdown",
   "metadata": {},
   "source": [
    "## Data with saldo engineering"
   ]
  },
  {
   "cell_type": "code",
   "execution_count": null,
   "metadata": {
    "collapsed": true
   },
   "outputs": [],
   "source": [
    "data_saldo = pd.read_csv('data/train_saldo.csv')"
   ]
  },
  {
   "cell_type": "code",
   "execution_count": null,
   "metadata": {
    "collapsed": true
   },
   "outputs": [],
   "source": [
    "# New feature counting zero entries\n",
    "original_features = data.columns[:-1]\n",
    "data.insert(len(original_features),'SumZeros',(data[original_features] == 0).sum(axis=1))b"
   ]
  },
  {
   "cell_type": "code",
   "execution_count": null,
   "metadata": {
    "collapsed": true
   },
   "outputs": [],
   "source": [
    "# New feature describing the number of assets\n",
    "asset_features = [name for name in data.columns if 'ind' in name]\n",
    "temp = data[asset_features].sum(axis=1)\n",
    "data.insert(data.shape[1]-1, 'NumAssets', temp)"
   ]
  }
 ],
 "metadata": {
  "kernelspec": {
   "display_name": "Python 3",
   "language": "python",
   "name": "python3"
  },
  "language_info": {
   "codemirror_mode": {
    "name": "ipython",
    "version": 3
   },
   "file_extension": ".py",
   "mimetype": "text/x-python",
   "name": "python",
   "nbconvert_exporter": "python",
   "pygments_lexer": "ipython3",
   "version": "3.5.2"
  }
 },
 "nbformat": 4,
 "nbformat_minor": 0
}
