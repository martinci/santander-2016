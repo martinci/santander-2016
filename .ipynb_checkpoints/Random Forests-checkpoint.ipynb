{
 "cells": [
  {
   "cell_type": "markdown",
   "metadata": {},
   "source": [
    "# 1. Ensemble of Random Forests with Resampling\n",
    "\n",
    "In this notebook we use an enseble of random forest to predict the customer satisfaction. One of the more poignant characteristics of the data is the imbalance between the target classes, only ~4.5% of the observations are labeled as unsatisfied. To deal with this issue we undersample the majority class. The procedure is as follows (for details see train_forests.py):\n",
    "\n",
    "- Split the training data according to the target variable: happy and unhappy customers.\n",
    "\n",
    "- Randomly pick a specified fraction of the unhappy data.\n",
    "\n",
    "- Merge the previous observations with a equally sized random sample of happy observations.\n",
    "\n",
    "This gives us a balanced data set on which to train our random forests.\n",
    "\n",
    "Remark: The metric that we use for evaluation is the area under the ROC curve."
   ]
  },
  {
   "cell_type": "code",
   "execution_count": 29,
   "metadata": {
    "collapsed": false
   },
   "outputs": [],
   "source": [
    "import pandas as pd\n",
    "import numpy as np\n",
    "import pickle\n",
    "import seaborn as sns\n",
    "import matplotlib.pyplot as plt\n",
    "%matplotlib inline"
   ]
  },
  {
   "cell_type": "code",
   "execution_count": 30,
   "metadata": {
    "collapsed": true
   },
   "outputs": [],
   "source": [
    "from sklearn.ensemble import RandomForestClassifier\n",
    "from sklearn.model_selection import train_test_split\n",
    "from sklearn.metrics import roc_auc_score"
   ]
  },
  {
   "cell_type": "code",
   "execution_count": 48,
   "metadata": {
    "collapsed": false
   },
   "outputs": [],
   "source": [
    "# We import custom utility functions for data processing and random forest training\n",
    "from process_data import process, create_submission, drop_columns\n",
    "from train_forests import trainForests, mean_ensemble"
   ]
  },
  {
   "cell_type": "code",
   "execution_count": 32,
   "metadata": {
    "collapsed": true
   },
   "outputs": [],
   "source": [
    "#data = pd.read_csv('data/train_saldo.csv')\n",
    "data = pd.read_csv('data/train_extended_saldo.csv')"
   ]
  },
  {
   "cell_type": "code",
   "execution_count": 33,
   "metadata": {
    "collapsed": true
   },
   "outputs": [],
   "source": [
    "train, test = train_test_split(data, test_size = 0.2, random_state = 42)"
   ]
  },
  {
   "cell_type": "code",
   "execution_count": 34,
   "metadata": {
    "collapsed": true
   },
   "outputs": [],
   "source": [
    "X_train, Y_train = train.ix[:,:-1], train['TARGET']"
   ]
  },
  {
   "cell_type": "code",
   "execution_count": 35,
   "metadata": {
    "collapsed": true
   },
   "outputs": [],
   "source": [
    "X_test, Y_test = test.ix[:,:-1], test['TARGET']"
   ]
  },
  {
   "cell_type": "markdown",
   "metadata": {},
   "source": [
    "## 1.2 Single Forest Classifier\n",
    "\n",
    "To have a better understanding of the problem, we examine the performance of a single random forest classifier."
   ]
  },
  {
   "cell_type": "code",
   "execution_count": 9,
   "metadata": {
    "collapsed": false
   },
   "outputs": [],
   "source": [
    "rf = RandomForestClassifier(n_estimators = 150)\n",
    "rf.fit(X_train, Y_train)\n",
    "rf_bal = RandomForestClassifier(n_estimators = 150, class_weight='balanced')\n",
    "rf_bal.fit(X_train, Y_train)\n",
    "# custom undersambpling (see train_forests.py)\n",
    "rf_custom = trainForests(train, n_trees = 150)[0]"
   ]
  },
  {
   "cell_type": "code",
   "execution_count": 10,
   "metadata": {
    "collapsed": false
   },
   "outputs": [
    {
     "name": "stdout",
     "output_type": "stream",
     "text": [
      "rf_score is 0.7664503403296856\n",
      "rf_bal score is 0.7623278304460792\n",
      "rf_custom score is 0.8090767336250514\n"
     ]
    }
   ],
   "source": [
    "# rf\n",
    "Y_prob = pd.DataFrame(rf.predict_proba(X_test))[1]\n",
    "print(\"rf_score is {}\".format(roc_auc_score(Y_test, Y_prob)))\n",
    "# rf_bal\n",
    "Y_prob = pd.DataFrame(rf_bal.predict_proba(X_test))[1]\n",
    "print(\"rf_bal score is {}\".format(roc_auc_score(Y_test, Y_prob)))\n",
    "# rf_custom\n",
    "Y_prob = pd.DataFrame(rf_custom.predict_proba(X_test))[1]\n",
    "print(\"rf_custom score is {}\".format(roc_auc_score(Y_test, Y_prob)))"
   ]
  },
  {
   "cell_type": "markdown",
   "metadata": {},
   "source": [
    "From this we see that the built-in parameter to deal with imbalanced data sets, 'class_weight', is not really useful. However, our custom resampling really makes a difference."
   ]
  },
  {
   "cell_type": "markdown",
   "metadata": {
    "collapsed": false
   },
   "source": [
    "## 1.3 Feature Importance\n",
    "\n",
    "It is worthwile to try and understand what are the most important features according to a random forest classifier. One may even consider to train the final model using only some of the top features."
   ]
  },
  {
   "cell_type": "code",
   "execution_count": 13,
   "metadata": {
    "collapsed": true
   },
   "outputs": [],
   "source": [
    "def feature_importance(n_trees, data):\n",
    "    rf = RandomForestClassifier(n_trees)\n",
    "    rf.fit(data.ix[:,:-1], data.ix[:,-1])\n",
    "    fimp = rf.feature_importances_\n",
    "    results = {}\n",
    "    for idx, name in enumerate(data.ix[:,:-1].columns):\n",
    "        results[name] = fimp[idx]\n",
    "    return results"
   ]
  },
  {
   "cell_type": "code",
   "execution_count": 14,
   "metadata": {
    "collapsed": false,
    "scrolled": true
   },
   "outputs": [
    {
     "name": "stdout",
     "output_type": "stream",
     "text": [
      "The rank of the features is as follows:\n",
      "var38 --> 0.378716598555\n",
      "var15 --> 0.173919288745\n",
      "mean_saldo_medio_ult3 --> 0.0214214323359\n",
      "saldo_medio_var5_ult3 --> 0.0192089850456\n",
      "num_var45_ult3 --> 0.0186883337203\n",
      "mean_saldo_medio_hace3 --> 0.0173772902456\n",
      "saldo_medio_var5_hace3 --> 0.0166976700206\n",
      "num_var45_hace3 --> 0.015190390281\n",
      "mean_saldo_medio_hace2 --> 0.0138241782435\n",
      "mean_saldo_medio_ult1 --> 0.0134727034488\n",
      "num_var22_ult3 --> 0.013314599868\n",
      "num_var45_hace2 --> 0.0133082900707\n",
      "saldo_medio_var5_hace2 --> 0.01241002629\n",
      "mean_saldo --> 0.0120710688806\n",
      "saldo_var30 --> 0.0118841276379\n",
      "saldo_var42 --> 0.0109690228713\n",
      "---------------\n",
      "There are 17 features above 0.01 \n",
      "---------------\n",
      "saldo_medio_var5_ult1 --> 0.00966077720827\n",
      "num_var45_ult1 --> 0.00962482339031\n",
      "num_var22_hace3 --> 0.00929317499133\n",
      "num_med_var45_ult3 --> 0.00922117678386\n",
      "num_var22_hace2 --> 0.00905455715624\n",
      "saldo_var5 --> 0.00890656941084\n",
      "var36 --> 0.00668699643708\n",
      "num_var22_ult1 --> 0.00662089968081\n",
      "num_meses_var39_vig_ult3 --> 0.00629469179763\n",
      "num_med_var22_ult3 --> 0.00487563794073\n",
      "imp_op_var41_ult1 --> 0.0041382640381\n",
      "num_meses_var5_ult3 --> 0.00405961680037\n",
      "imp_op_var39_ult1 --> 0.00403987733499\n",
      "imp_op_var39_comer_ult3 --> 0.00383861978046\n",
      "imp_op_var41_comer_ult3 --> 0.00373631409445\n",
      "imp_op_var41_efect_ult3 --> 0.00358815623689\n",
      "imp_op_var39_efect_ult3 --> 0.00355003213736\n",
      "imp_trans_var37_ult1 --> 0.00320176095113\n",
      "imp_op_var39_comer_ult1 --> 0.00319540721246\n",
      "num_op_var41_ult3 --> 0.00313476865204\n",
      "imp_op_var41_comer_ult1 --> 0.00312596986129\n",
      "num_op_var39_ult3 --> 0.00305628036562\n",
      "saldo_var37 --> 0.00289866669202\n",
      "imp_op_var41_efect_ult1 --> 0.00282553371392\n",
      "num_var35 --> 0.00281480855462\n",
      "imp_op_var39_efect_ult1 --> 0.00279264141465\n",
      "num_op_var41_comer_ult3 --> 0.00273035064376\n",
      "imp_ent_var16_ult1 --> 0.00272529482427\n",
      "num_var4 --> 0.00272056454051\n",
      "num_op_var39_comer_ult3 --> 0.00266022727094\n",
      "num_op_var39_hace2 --> 0.0024826516855\n",
      "num_op_var41_ult1 --> 0.00246066552407\n",
      "num_op_var39_ult1 --> 0.00243411020587\n",
      "num_op_var41_hace2 --> 0.00240658451773\n",
      "imp_var43_emit_ult1 --> 0.0023361354514\n",
      "num_var30 --> 0.00230355363392\n",
      "num_op_var39_efect_ult3 --> 0.00226175800341\n",
      "num_op_var41_efect_ult3 --> 0.00225320966424\n",
      "var3 --> 0.00215860334043\n",
      "num_op_var39_comer_ult1 --> 0.00211946354766\n",
      "num_op_var41_comer_ult1 --> 0.00210457654946\n",
      "num_var41_0 --> 0.00196398155456\n",
      "num_var43_recib_ult1 --> 0.00195580636737\n",
      "num_var39_0 --> 0.0018804629554\n",
      "num_var42 --> 0.00184583351277\n",
      "num_ent_var16_ult1 --> 0.00169817117767\n",
      "num_var43_emit_ult1 --> 0.00169483533543\n",
      "ind_var30 --> 0.00167595198193\n",
      "num_op_var39_efect_ult1 --> 0.00160924161543\n",
      "num_op_var41_efect_ult1 --> 0.00159208245201\n",
      "saldo_medio_var8_ult3 --> 0.00158098844288\n",
      "saldo_var8 --> 0.00155739467726\n",
      "num_var37_0 --> 0.00153281626324\n",
      "num_var37 --> 0.00146919177031\n",
      "saldo_medio_var8_ult1 --> 0.0014098423164\n",
      "num_var37_med_ult2 --> 0.00134764589319\n",
      "num_var5 --> 0.00119907965817\n",
      "num_var30_0 --> 0.00119088749994\n",
      "num_var5_0 --> 0.00111032388383\n",
      "num_var42_0 --> 0.0011016860375\n",
      "ind_var5 --> 0.00108494162876\n",
      "ind_var43_recib_ult1 --> 0.0010795449638\n",
      "ind_var41_0 --> 0.00103177002259\n",
      "ind_var39_0 --> 0.00102990375562\n",
      "num_var8_0 --> 0.000991258775128\n",
      "ind_var43_emit_ult1 --> 0.000949917558243\n",
      "saldo_medio_var8_hace2 --> 0.000947143634266\n",
      "ind_var8_0 --> 0.000916844791174\n",
      "saldo_var26 --> 0.000899474312315\n",
      "saldo_var25 --> 0.000866114197859\n",
      "ind_var37_cte --> 0.000671998567121\n",
      "ind_var9_cte_ult1 --> 0.000661769241852\n",
      "ind_var10cte_ult1 --> 0.000661626549906\n",
      "ind_var5_0 --> 0.000638362260651\n",
      "ind_var37 --> 0.000604270923795\n",
      "ind_var37_0 --> 0.000595581222641\n",
      "num_meses_var8_ult3 --> 0.000574282895932\n",
      "ind_var9_ult1 --> 0.000569611508435\n",
      "saldo_medio_var12_ult3 --> 0.000569239284642\n",
      "num_trasp_var11_ult1 --> 0.000563667322533\n",
      "saldo_medio_var12_ult1 --> 0.000550383172713\n",
      "ind_var10_ult1 --> 0.000549942404914\n",
      "num_op_var41_hace3 --> 0.000522503174212\n",
      "num_var12_0 --> 0.000510208261647\n",
      "saldo_var12 --> 0.000507108336663\n",
      "saldo_medio_var8_hace3 --> 0.000495739014655\n",
      "num_op_var39_hace3 --> 0.000492667099117\n",
      "ind_var12_0 --> 0.000492645350668\n",
      "saldo_medio_var13_corto_ult3 --> 0.000430554772095\n",
      "saldo_var24 --> 0.000411136103859\n",
      "saldo_var13 --> 0.000410206033024\n",
      "saldo_medio_var12_hace2 --> 0.000402422205401\n",
      "num_var24_0 --> 0.000392969067562\n",
      "imp_sal_var16_ult1 --> 0.000382515624583\n",
      "imp_var7_recib_ult1 --> 0.000365388232133\n",
      "num_var25_0 --> 0.000357223163642\n",
      "saldo_medio_var13_corto_hace2 --> 0.000356287014102\n",
      "num_var25 --> 0.000354871177846\n",
      "num_var26_0 --> 0.000353978931753\n",
      "saldo_medio_var13_corto_ult1 --> 0.000353121878813\n",
      "ind_var24_0 --> 0.000347847830632\n",
      "saldo_var13_corto --> 0.000345201251863\n",
      "num_var26 --> 0.000342558915345\n",
      "num_sal_var16_ult1 --> 0.000336141970794\n",
      "ind_var26_cte --> 0.000323762042318\n",
      "var21 --> 0.000321979242193\n",
      "ind_var25_cte --> 0.000283532059434\n",
      "imp_op_var40_efect_ult1 --> 0.000277591287003\n",
      "num_var14_0 --> 0.000262095400894\n",
      "num_var40_0 --> 0.000260805364341\n",
      "ind_var7_recib_ult1 --> 0.000259431338565\n",
      "num_var7_recib_ult1 --> 0.000250015522661\n",
      "num_var1_0 --> 0.00024190788259\n",
      "num_meses_var12_ult3 --> 0.000237724807139\n",
      "ind_var8 --> 0.000236056003593\n",
      "saldo_var40 --> 0.000230870650485\n",
      "imp_op_var40_efect_ult3 --> 0.000227224413478\n",
      "ind_var30_0 --> 0.000225015886039\n",
      "saldo_medio_var12_hace3 --> 0.000221799671463\n",
      "ind_var14_0 --> 0.00021899548785\n",
      "saldo_var1 --> 0.00021655711197\n",
      "num_var8 --> 0.00021490475306\n",
      "ind_var1_0 --> 0.000210531395997\n",
      "ind_var13_0 --> 0.000207080943849\n",
      "ind_var40_0 --> 0.000206332577025\n",
      "num_var13 --> 0.0002050774826\n",
      "ind_var26_0 --> 0.000193121209133\n",
      "ind_var26 --> 0.000180967923194\n",
      "ind_var25 --> 0.000178872372373\n",
      "ind_var25_0 --> 0.000177706041161\n",
      "num_meses_var13_corto_ult3 --> 0.000176759183042\n",
      "num_op_var40_efect_ult3 --> 0.000174924315818\n",
      "num_var13_0 --> 0.000162876882098\n",
      "ind_var12 --> 0.000155117018145\n",
      "imp_op_var40_comer_ult3 --> 0.000153309548363\n",
      "saldo_var14 --> 0.000152257108431\n",
      "num_var12 --> 0.000148306163506\n",
      "imp_op_var40_ult1 --> 0.000142274981568\n",
      "ind_var32_cte --> 0.000139262044858\n",
      "num_op_var40_efect_ult1 --> 0.000136687596628\n",
      "ind_var13 --> 0.000136367169364\n",
      "num_op_var40_comer_ult3 --> 0.000117063635463\n",
      "num_op_var40_ult3 --> 0.000116114639858\n",
      "num_var24 --> 0.000112418295912\n",
      "num_var14 --> 0.000108394913688\n",
      "num_op_var40_ult1 --> 0.000108311951633\n",
      "delta_imp_aport_var13_1y3 --> 0.000106998133398\n",
      "imp_op_var40_comer_ult1 --> 0.000105290799842\n",
      "saldo_medio_var13_corto_hace3 --> 0.000103692421052\n",
      "ind_var13_corto_0 --> 9.95651483191e-05\n",
      "ind_var14 --> 9.24351565509e-05\n",
      "imp_aport_var13_ult1 --> 9.12754369145e-05\n",
      "ind_var19 --> 9.00866425718e-05\n",
      "saldo_var32 --> 9.00834765024e-05\n",
      "delta_num_aport_var13_1y3 --> 8.55189124996e-05\n",
      "num_var13_corto_0 --> 8.37163685088e-05\n",
      "ind_var1 --> 8.37026984673e-05\n",
      "ind_var24 --> 8.26068996448e-05\n",
      "num_op_var40_comer_ult1 --> 7.96417536809e-05\n",
      "num_aport_var17_ult1 --> 7.08840805322e-05\n",
      "num_var40 --> 6.89706546788e-05\n",
      "num_var13_corto --> 6.86585193324e-05\n",
      "num_var39 --> 6.77497854429e-05\n",
      "saldo_var13_largo --> 6.72284282681e-05\n",
      "ind_var39 --> 6.71699999469e-05\n",
      "imp_aport_var13_hace3 --> 6.67300748308e-05\n",
      "imp_compra_var44_ult1 --> 6.47756195437e-05\n",
      "ind_var13_corto --> 6.19234796136e-05\n",
      "num_var1 --> 6.05289869428e-05\n",
      "num_aport_var13_hace3 --> 5.90681684216e-05\n",
      "saldo_medio_var17_ult3 --> 5.83401080726e-05\n",
      "num_var31 --> 5.72536490506e-05\n",
      "ind_var40 --> 5.56064753534e-05\n",
      "saldo_var31 --> 5.36873600957e-05\n",
      "num_var31_0 --> 5.17857681738e-05\n",
      "num_var32_0 --> 5.12649631497e-05\n",
      "imp_reemb_var17_ult1 --> 5.04173733758e-05\n",
      "num_reemb_var17_ult1 --> 4.96537851813e-05\n",
      "num_var32 --> 4.69837308465e-05\n",
      "num_var17_0 --> 4.30691072168e-05\n",
      "num_var13_largo --> 4.12869931893e-05\n",
      "num_var17 --> 4.1119705336e-05\n",
      "imp_reemb_var13_ult1 --> 3.9868415414e-05\n",
      "saldo_var44 --> 3.97511129603e-05\n",
      "ind_var13_largo_0 --> 3.82112817766e-05\n",
      "saldo_medio_var17_ult1 --> 3.73884619016e-05\n",
      "ind_var32 --> 3.59208809934e-05\n",
      "num_aport_var13_ult1 --> 3.39349640527e-05\n",
      "saldo_var17 --> 3.34354574009e-05\n",
      "num_var20_0 --> 3.1295099031e-05\n",
      "ind_var31_0 --> 3.10746389205e-05\n",
      "num_var13_largo_0 --> 3.10141795065e-05\n",
      "saldo_medio_var44_ult1 --> 3.01070362448e-05\n",
      "ind_var20_0 --> 3.00269019148e-05\n",
      "saldo_medio_var44_ult3 --> 2.99220680126e-05\n",
      "ind_var13_largo --> 2.9537559616e-05\n",
      "ind_var32_0 --> 2.94123560622e-05\n",
      "num_op_var40_hace2 --> 2.74682320845e-05\n",
      "ind_var17 --> 2.2886416883e-05\n",
      "ind_var17_0 --> 2.07229224716e-05\n",
      "imp_aport_var17_ult1 --> 2.04978717715e-05\n",
      "delta_imp_compra_var44_1y3 --> 2.00758831065e-05\n",
      "ind_var31 --> 1.99985265669e-05\n",
      "delta_num_compra_var44_1y3 --> 1.83923370583e-05\n",
      "num_meses_var17_ult3 --> 1.58829939653e-05\n",
      "num_meses_var44_ult3 --> 1.48484041679e-05\n",
      "num_meses_var13_largo_ult3 --> 1.44970171387e-05\n",
      "saldo_medio_var44_hace2 --> 1.41156978361e-05\n",
      "num_compra_var44_ult1 --> 1.40090772033e-05\n",
      "delta_imp_reemb_var13_1y3 --> 1.31964965779e-05\n",
      "saldo_medio_var13_largo_ult1 --> 1.25623518214e-05\n",
      "num_var44 --> 1.23295797005e-05\n",
      "delta_num_reemb_var13_1y3 --> 1.12414572833e-05\n",
      "num_reemb_var13_ult1 --> 9.98393845693e-06\n",
      "num_var44_0 --> 9.8173931e-06\n",
      "ind_var44 --> 8.56155570904e-06\n",
      "num_var33_0 --> 8.22203183584e-06\n",
      "saldo_medio_var13_largo_ult3 --> 7.89023920429e-06\n",
      "saldo_medio_var17_hace2 --> 7.14464527032e-06\n",
      "saldo_medio_var13_largo_hace2 --> 6.82823188758e-06\n",
      "ind_var44_0 --> 6.73297786813e-06\n",
      "delta_num_aport_var17_1y3 --> 4.57729435224e-06\n",
      "delta_imp_venta_var44_1y3 --> 4.41669925724e-06\n",
      "imp_venta_var44_ult1 --> 4.15677905008e-06\n",
      "num_meses_var33_ult3 --> 4.10545582654e-06\n",
      "delta_imp_reemb_var17_1y3 --> 3.84414046329e-06\n",
      "ind_var20 --> 3.72317300642e-06\n",
      "num_var33 --> 3.68072719632e-06\n",
      "delta_num_venta_var44_1y3 --> 3.30084619092e-06\n",
      "delta_num_reemb_var17_1y3 --> 3.07239763739e-06\n",
      "saldo_var20 --> 3.01588923423e-06\n",
      "ind_var33_0 --> 2.97135878168e-06\n",
      "saldo_var33 --> 2.72433353996e-06\n",
      "saldo_medio_var33_hace2 --> 2.34858785226e-06\n",
      "imp_aport_var17_hace3 --> 2.00864527621e-06\n",
      "num_venta_var44_ult1 --> 1.96021035483e-06\n",
      "imp_trasp_var17_in_ult1 --> 1.88690170195e-06\n",
      "delta_imp_aport_var17_1y3 --> 1.85695653539e-06\n",
      "ind_var33 --> 1.68135079436e-06\n",
      "saldo_medio_var17_hace3 --> 1.51256377298e-06\n",
      "imp_compra_var44_hace3 --> 1.47425448231e-06\n",
      "num_var18_0 --> 1.42751853187e-06\n",
      "num_compra_var44_hace3 --> 1.40929080249e-06\n",
      "num_aport_var17_hace3 --> 1.31547586844e-06\n",
      "saldo_medio_var13_largo_hace3 --> 1.2448763953e-06\n",
      "saldo_medio_var33_ult3 --> 1.01719841598e-06\n",
      "saldo_medio_var33_hace3 --> 1.01568673644e-06\n",
      "num_var6_0 --> 9.80343585537e-07\n",
      "delta_imp_aport_var33_1y3 --> 9.57225555873e-07\n",
      "saldo_medio_var44_hace3 --> 9.30137533853e-07\n",
      "saldo_medio_var33_ult1 --> 8.63418479548e-07\n",
      "num_var20 --> 7.73725380545e-07\n",
      "num_trasp_var17_out_ult1 --> 6.30044940955e-07\n",
      "num_var34 --> 5.87348838889e-07\n",
      "num_var29_0 --> 5.45685829913e-07\n",
      "num_aport_var33_ult1 --> 5.45449296269e-07\n",
      "saldo_var18 --> 5.3625242006e-07\n",
      "num_var34_0 --> 4.92092537132e-07\n",
      "num_var6 --> 4.55406754582e-07\n",
      "num_aport_var33_hace3 --> 4.24678109635e-07\n",
      "delta_imp_trasp_var33_in_1y3 --> 3.97400766344e-07\n",
      "saldo_medio_var29_hace2 --> 3.87458274385e-07\n",
      "delta_imp_trasp_var17_in_1y3 --> 3.63632864179e-07\n",
      "num_trasp_var33_in_ult1 --> 2.26296906781e-07\n",
      "imp_aport_var33_hace3 --> 2.08307933846e-07\n",
      "num_trasp_var33_in_hace3 --> 1.86699628692e-07\n",
      "num_meses_var29_ult3 --> 1.55869727891e-07\n",
      "delta_num_trasp_var17_out_1y3 --> 1.50859515268e-07\n",
      "ind_var29_0 --> 1.47835175955e-07\n",
      "ind_var7_emit_ult1 --> 1.29979292517e-07\n",
      "num_var29 --> 5.17570281533e-08\n",
      "imp_aport_var33_ult1 --> 5.0787458731e-08\n",
      "delta_num_aport_var33_1y3 --> 2.79628619033e-08\n",
      "num_var7_emit_ult1 --> 2.6978374403e-08\n",
      "delta_imp_amort_var18_1y3 --> 2.1235278113e-08\n",
      "delta_imp_trasp_var17_out_1y3 --> 1.39531591999e-08\n",
      "num_var18 --> 1.05767742097e-08\n",
      "num_op_var40_hace3 --> 1.00689198367e-08\n",
      "saldo_var6 --> 7.77241792749e-09\n",
      "imp_amort_var18_ult1 --> 7.3478786868e-09\n",
      "imp_trasp_var17_out_ult1 --> 7.07151599504e-09\n",
      "num_trasp_var17_in_ult1 --> 4.85975711269e-09\n",
      "num_venta_var44_hace3 --> 4.78567864989e-09\n",
      "ind_var6_0 --> 1.56358456526e-09\n",
      "ind_var34 --> 5.17896573837e-10\n",
      "imp_venta_var44_hace3 --> 2.22868123757e-10\n",
      "ind_var13_medio --> 0.0\n",
      "delta_imp_amort_var34_1y3 --> 0.0\n",
      "saldo_var29 --> 0.0\n",
      "saldo_medio_var13_medio_ult1 --> 0.0\n",
      "imp_reemb_var33_ult1 --> 0.0\n",
      "num_var13_medio_0 --> 0.0\n",
      "ind_var29 --> 0.0\n",
      "delta_imp_reemb_var33_1y3 --> 0.0\n",
      "num_reemb_var17_hace3 --> 0.0\n",
      "saldo_medio_var29_hace3 --> 0.0\n",
      "delta_num_trasp_var17_in_1y3 --> 0.0\n",
      "saldo_medio_var13_medio_hace2 --> 0.0\n",
      "delta_num_trasp_var33_out_1y3 --> 0.0\n",
      "imp_trasp_var33_in_hace3 --> 0.0\n",
      "saldo_medio_var13 --> 0.0\n",
      "num_trasp_var33_out_ult1 --> 0.0\n",
      "saldo_medio_var29_ult3 --> 0.0\n",
      "num_reemb_var33_ult1 --> 0.0\n",
      "delta_imp_trasp_var33_out_1y3 --> 0.0\n",
      "imp_trasp_var33_in_ult1 --> 0.0\n",
      "ind_var34_0 --> 0.0\n",
      "ind_var18_0 --> 0.0\n",
      "ind_var13_medio_0 --> 0.0\n",
      "ind_var6 --> 0.0\n",
      "saldo_var34 --> 0.0\n",
      "saldo_medio_var29_ult1 --> 0.0\n",
      "delta_num_trasp_var33_in_1y3 --> 0.0\n",
      "num_var13_medio --> 0.0\n",
      "num_meses_var13_medio_ult3 --> 0.0\n",
      "imp_amort_var34_ult1 --> 0.0\n",
      "ind_var18 --> 0.0\n",
      "imp_trasp_var33_out_ult1 --> 0.0\n",
      "num_trasp_var17_in_hace3 --> 0.0\n",
      "imp_var7_emit_ult1 --> 0.0\n",
      "imp_trasp_var17_in_hace3 --> 0.0\n",
      "imp_reemb_var17_hace3 --> 0.0\n",
      "saldo_medio_var13_medio_ult3 --> 0.0\n",
      "delta_num_reemb_var33_1y3 --> 0.0\n"
     ]
    }
   ],
   "source": [
    "# We can use an initial random forest to take a look at important features\n",
    "if True: # Set to 'False' to skip this step as it takes some time.\n",
    "    threshold = 0.01\n",
    "    rank = feature_importance(300, data)\n",
    "    print(\"The rank of the features is as follows:\")\n",
    "    flag = 1\n",
    "    count = 0\n",
    "    for a in sorted(rank.keys(), key=rank.get)[::-1]:\n",
    "        aux = rank[a]\n",
    "        count+= 1\n",
    "        if aux < threshold and flag:\n",
    "            flag = 0\n",
    "            print('---'*5)\n",
    "            print('There are {} features above {} '.format(count, threshold))\n",
    "            print('---'*5)\n",
    "        print(a, '-->', rank[a])"
   ]
  },
  {
   "cell_type": "markdown",
   "metadata": {},
   "source": [
    "**Important Remark**: This backs up our data analysis. Notice how all the new features that we created are on the top of the importance rank."
   ]
  },
  {
   "cell_type": "markdown",
   "metadata": {},
   "source": [
    "## 1.4 Ensemble of Random Forests\n",
    "\n",
    "In the final part of the model, we train N_forest-many random forest with n_trees-many trees each. Ultimately, the prediction of the probability of being unsatisfied (TARGET = 0) is made as the geometric mean of the individual predictions.\n",
    "\n",
    "The basic parameters in the model are:\n",
    "- N_forest: number of random forests to train.\n",
    "- n_trees: number of trees for each forest.\n",
    "- a: the fraction of the TARGET == 1 class to be used in the training of each forest.\n",
    "- w: weight of the TARGET == 0 class in the training set."
   ]
  },
  {
   "cell_type": "markdown",
   "metadata": {},
   "source": [
    "### Cross Validation\n",
    "\n",
    "We perform a grid-search to find the best parameters, we obtain a=0.25, w=1, N_forest=90, n_trees=200."
   ]
  },
  {
   "cell_type": "code",
   "execution_count": 15,
   "metadata": {
    "collapsed": false
   },
   "outputs": [],
   "source": [
    "cv_data = pd.read_csv(\"cross-validation/cross-val.csv\")"
   ]
  },
  {
   "cell_type": "code",
   "execution_count": 16,
   "metadata": {
    "collapsed": false
   },
   "outputs": [
    {
     "data": {
      "text/html": [
       "<div>\n",
       "<table border=\"1\" class=\"dataframe\">\n",
       "  <thead>\n",
       "    <tr style=\"text-align: right;\">\n",
       "      <th></th>\n",
       "      <th>a</th>\n",
       "      <th>w</th>\n",
       "      <th>N_forest</th>\n",
       "      <th>n_trees</th>\n",
       "      <th>auc_roc</th>\n",
       "    </tr>\n",
       "  </thead>\n",
       "  <tbody>\n",
       "    <tr>\n",
       "      <th>count</th>\n",
       "      <td>332.000000</td>\n",
       "      <td>332.000000</td>\n",
       "      <td>332.000000</td>\n",
       "      <td>332.000000</td>\n",
       "      <td>332.000000</td>\n",
       "    </tr>\n",
       "    <tr>\n",
       "      <th>mean</th>\n",
       "      <td>0.717206</td>\n",
       "      <td>1.406627</td>\n",
       "      <td>40.451807</td>\n",
       "      <td>232.078313</td>\n",
       "      <td>0.805536</td>\n",
       "    </tr>\n",
       "    <tr>\n",
       "      <th>std</th>\n",
       "      <td>0.554718</td>\n",
       "      <td>0.716878</td>\n",
       "      <td>26.442220</td>\n",
       "      <td>136.373686</td>\n",
       "      <td>0.031897</td>\n",
       "    </tr>\n",
       "    <tr>\n",
       "      <th>min</th>\n",
       "      <td>0.111111</td>\n",
       "      <td>1.000000</td>\n",
       "      <td>10.000000</td>\n",
       "      <td>50.000000</td>\n",
       "      <td>0.720001</td>\n",
       "    </tr>\n",
       "    <tr>\n",
       "      <th>25%</th>\n",
       "      <td>0.250000</td>\n",
       "      <td>1.000000</td>\n",
       "      <td>20.000000</td>\n",
       "      <td>100.000000</td>\n",
       "      <td>0.786379</td>\n",
       "    </tr>\n",
       "    <tr>\n",
       "      <th>50%</th>\n",
       "      <td>0.500000</td>\n",
       "      <td>1.000000</td>\n",
       "      <td>40.000000</td>\n",
       "      <td>205.000000</td>\n",
       "      <td>0.820972</td>\n",
       "    </tr>\n",
       "    <tr>\n",
       "      <th>75%</th>\n",
       "      <td>1.000000</td>\n",
       "      <td>2.000000</td>\n",
       "      <td>50.000000</td>\n",
       "      <td>350.000000</td>\n",
       "      <td>0.828311</td>\n",
       "    </tr>\n",
       "    <tr>\n",
       "      <th>max</th>\n",
       "      <td>5.000000</td>\n",
       "      <td>3.000000</td>\n",
       "      <td>180.000000</td>\n",
       "      <td>500.000000</td>\n",
       "      <td>0.835501</td>\n",
       "    </tr>\n",
       "  </tbody>\n",
       "</table>\n",
       "</div>"
      ],
      "text/plain": [
       "                a           w    N_forest     n_trees     auc_roc\n",
       "count  332.000000  332.000000  332.000000  332.000000  332.000000\n",
       "mean     0.717206    1.406627   40.451807  232.078313    0.805536\n",
       "std      0.554718    0.716878   26.442220  136.373686    0.031897\n",
       "min      0.111111    1.000000   10.000000   50.000000    0.720001\n",
       "25%      0.250000    1.000000   20.000000  100.000000    0.786379\n",
       "50%      0.500000    1.000000   40.000000  205.000000    0.820972\n",
       "75%      1.000000    2.000000   50.000000  350.000000    0.828311\n",
       "max      5.000000    3.000000  180.000000  500.000000    0.835501"
      ]
     },
     "execution_count": 16,
     "metadata": {},
     "output_type": "execute_result"
    }
   ],
   "source": [
    "cv_data.describe()"
   ]
  },
  {
   "cell_type": "code",
   "execution_count": 17,
   "metadata": {
    "collapsed": false
   },
   "outputs": [
    {
     "data": {
      "text/html": [
       "<div>\n",
       "<table border=\"1\" class=\"dataframe\">\n",
       "  <thead>\n",
       "    <tr style=\"text-align: right;\">\n",
       "      <th></th>\n",
       "      <th>a</th>\n",
       "      <th>w</th>\n",
       "      <th>N_forest</th>\n",
       "      <th>n_trees</th>\n",
       "      <th>auc_roc</th>\n",
       "    </tr>\n",
       "  </thead>\n",
       "  <tbody>\n",
       "    <tr>\n",
       "      <th>0</th>\n",
       "      <td>0.25</td>\n",
       "      <td>1</td>\n",
       "      <td>30</td>\n",
       "      <td>200</td>\n",
       "      <td>0.835188</td>\n",
       "    </tr>\n",
       "    <tr>\n",
       "      <th>5</th>\n",
       "      <td>0.25</td>\n",
       "      <td>1</td>\n",
       "      <td>60</td>\n",
       "      <td>300</td>\n",
       "      <td>0.835154</td>\n",
       "    </tr>\n",
       "    <tr>\n",
       "      <th>6</th>\n",
       "      <td>0.25</td>\n",
       "      <td>1</td>\n",
       "      <td>60</td>\n",
       "      <td>400</td>\n",
       "      <td>0.835114</td>\n",
       "    </tr>\n",
       "    <tr>\n",
       "      <th>7</th>\n",
       "      <td>0.25</td>\n",
       "      <td>1</td>\n",
       "      <td>60</td>\n",
       "      <td>500</td>\n",
       "      <td>0.835370</td>\n",
       "    </tr>\n",
       "    <tr>\n",
       "      <th>8</th>\n",
       "      <td>0.25</td>\n",
       "      <td>1</td>\n",
       "      <td>90</td>\n",
       "      <td>200</td>\n",
       "      <td>0.835501</td>\n",
       "    </tr>\n",
       "    <tr>\n",
       "      <th>331</th>\n",
       "      <td>0.25</td>\n",
       "      <td>1</td>\n",
       "      <td>60</td>\n",
       "      <td>150</td>\n",
       "      <td>0.835243</td>\n",
       "    </tr>\n",
       "  </tbody>\n",
       "</table>\n",
       "</div>"
      ],
      "text/plain": [
       "        a  w  N_forest  n_trees   auc_roc\n",
       "0    0.25  1        30      200  0.835188\n",
       "5    0.25  1        60      300  0.835154\n",
       "6    0.25  1        60      400  0.835114\n",
       "7    0.25  1        60      500  0.835370\n",
       "8    0.25  1        90      200  0.835501\n",
       "331  0.25  1        60      150  0.835243"
      ]
     },
     "execution_count": 17,
     "metadata": {},
     "output_type": "execute_result"
    }
   ],
   "source": [
    "cv_data[cv_data['auc_roc'] > 0.835]"
   ]
  },
  {
   "cell_type": "markdown",
   "metadata": {},
   "source": [
    "We compromise with N_forest = 30 and n_trees = 200 for the sake o computer performance."
   ]
  },
  {
   "cell_type": "markdown",
   "metadata": {},
   "source": [
    "### Model Training"
   ]
  },
  {
   "cell_type": "code",
   "execution_count": 36,
   "metadata": {
    "collapsed": false
   },
   "outputs": [],
   "source": [
    "a = 0.25 # It can also be >1 to oversample the minority class (1 ie. unhappy)\n",
    "w = 1  # Weight of the majority class in the final sample.\n",
    "N_forest = 30  # Number of forests to train\n",
    "n_trees = 200  # Number of trees in each forest"
   ]
  },
  {
   "cell_type": "code",
   "execution_count": 37,
   "metadata": {
    "collapsed": false
   },
   "outputs": [],
   "source": [
    "rfs = trainForests(train, a, w, N_forest, n_trees)"
   ]
  },
  {
   "cell_type": "code",
   "execution_count": 39,
   "metadata": {
    "collapsed": true
   },
   "outputs": [],
   "source": [
    "# mean_ensemble takes the predicted probabilities of each random forest and computes the geometric mean. See train_forests.py for more details\n",
    "Y_tot = mean_ensemble(rfs, X_test)"
   ]
  },
  {
   "cell_type": "code",
   "execution_count": 40,
   "metadata": {
    "collapsed": false
   },
   "outputs": [
    {
     "name": "stdout",
     "output_type": "stream",
     "text": [
      "0.83368092945\n"
     ]
    }
   ],
   "source": [
    "temp = roc_auc_score(Y_test,Y_tot['geometric'])\n",
    "rf_classifiers = [rfs, temp]\n",
    "print(temp)"
   ]
  },
  {
   "cell_type": "code",
   "execution_count": 41,
   "metadata": {
    "collapsed": true
   },
   "outputs": [],
   "source": [
    "pickle.dump(rf_classifiers, open(\"models/rf_classifier_param1.dat\", \"wb\"))"
   ]
  },
  {
   "cell_type": "markdown",
   "metadata": {},
   "source": [
    "For comparison, we print the score of the prediction on the training set."
   ]
  },
  {
   "cell_type": "code",
   "execution_count": 42,
   "metadata": {
    "collapsed": true
   },
   "outputs": [],
   "source": [
    "Y_prob = mean_ensemble(rfs, X_train)"
   ]
  },
  {
   "cell_type": "code",
   "execution_count": 43,
   "metadata": {
    "collapsed": false
   },
   "outputs": [
    {
     "data": {
      "text/plain": [
       "0.86290514633710458"
      ]
     },
     "execution_count": 43,
     "metadata": {},
     "output_type": "execute_result"
    }
   ],
   "source": [
    "roc_auc_score(Y_train, Y_prob[\"geometric\"])"
   ]
  },
  {
   "cell_type": "markdown",
   "metadata": {},
   "source": [
    "This indicates that some overfitting might be going on. We are going to try and fix that."
   ]
  },
  {
   "cell_type": "markdown",
   "metadata": {},
   "source": [
    "#### Help with overfitting: 'min_samples_leaf'"
   ]
  },
  {
   "cell_type": "markdown",
   "metadata": {},
   "source": [
    "There is another parameter that we can use to prevent overfitting, 'min_samples_leaf'. This is the number of samples that we require each leaf to have in each decision tree of the random forest. The higher the less prone to over fitting. We run a token experiment to see how scores change."
   ]
  },
  {
   "cell_type": "code",
   "execution_count": 44,
   "metadata": {
    "collapsed": false
   },
   "outputs": [
    {
     "name": "stdout",
     "output_type": "stream",
     "text": [
      "msl=1 --> 0.7512924108551113\n",
      "msl=2 --> 0.816779846550582\n",
      "msl=3 --> 0.8171706876195702\n",
      "msl=4 --> 0.8162287978877654\n",
      "msl=5 --> 0.8167032132598391\n",
      "msl=6 --> 0.8150002951341021\n",
      "msl=7 --> 0.8164064426589427\n",
      "msl=8 --> 0.8163498423713026\n",
      "msl=9 --> 0.8151610106068827\n",
      "msl=10 --> 0.8170272400311545\n"
     ]
    }
   ],
   "source": [
    "for msl in range(1, 11):\n",
    "    rf = RandomForestClassifier(n_estimators = 150, min_samples_leaf = msl)\n",
    "    rf.fit(train.ix[:,:-1],train['TARGET'])\n",
    "    temp = pd.DataFrame(rf.predict_proba(X_test))[1]\n",
    "    print(\"msl={} --> {}\".format(msl,roc_auc_score(Y_test, temp)))"
   ]
  },
  {
   "cell_type": "markdown",
   "metadata": {},
   "source": [
    "A good choice for the parameter is msl = 3. Let's see whether it improves our model."
   ]
  },
  {
   "cell_type": "code",
   "execution_count": 49,
   "metadata": {
    "collapsed": false
   },
   "outputs": [
    {
     "name": "stdout",
     "output_type": "stream",
     "text": [
      "<bound method BaseEstimator.get_params of RandomForestClassifier(bootstrap=True, class_weight=None, criterion='gini',\n",
      "            max_depth=None, max_features='auto', max_leaf_nodes=None,\n",
      "            min_impurity_split=1e-07, min_samples_leaf=1,\n",
      "            min_samples_split=2, min_weight_fraction_leaf=0.0,\n",
      "            n_estimators=200, n_jobs=1, oob_score=False, random_state=None,\n",
      "            verbose=0, warm_start=False)>\n",
      "Test error = 0.8347508046777683\n",
      "Training error = 0.8641455065781709\n"
     ]
    }
   ],
   "source": [
    "rfs = trainForests(train, a, w, N_forest, n_trees, msl=3)\n",
    "print(rfs[-1].get_params)\n",
    "Y_tot = mean_ensemble(rfs, X_test)\n",
    "temp = roc_auc_score(Y_test,Y_tot['geometric'])\n",
    "rf_classifiers.append([rfs, temp])\n",
    "print(\"Test error = {}\".format(temp))\n",
    "Y_prob = mean_ensemble(rfs, X_train)\n",
    "print(\"Training error = {}\".format(roc_auc_score(Y_train, Y_prob[\"geometric\"])))"
   ]
  },
  {
   "cell_type": "markdown",
   "metadata": {},
   "source": [
    "## Meta Ensemble"
   ]
  },
  {
   "cell_type": "markdown",
   "metadata": {},
   "source": [
    "Now we are going to use the random forest classifiers trained above to create a meta predictor."
   ]
  },
  {
   "cell_type": "code",
   "execution_count": null,
   "metadata": {
    "collapsed": false
   },
   "outputs": [],
   "source": [
    "train = train.reset_index(drop=True)\n",
    "test = test.reset_index(drop=True)"
   ]
  },
  {
   "cell_type": "code",
   "execution_count": null,
   "metadata": {
    "collapsed": false
   },
   "outputs": [],
   "source": [
    "train.head()"
   ]
  },
  {
   "cell_type": "code",
   "execution_count": null,
   "metadata": {
    "collapsed": false
   },
   "outputs": [],
   "source": [
    "X_train, Y_train = train.ix[:,:-1], train['TARGET']"
   ]
  },
  {
   "cell_type": "code",
   "execution_count": null,
   "metadata": {
    "collapsed": false
   },
   "outputs": [],
   "source": [
    "X_train.head()"
   ]
  },
  {
   "cell_type": "code",
   "execution_count": null,
   "metadata": {
    "collapsed": false
   },
   "outputs": [],
   "source": [
    "for rf in rfs:\n",
    "    temp = rf.predict(train.ix[:,:-1])\n",
    "    temp = pd.DataFrame(temp)\n",
    "    X_train = pd.concat([X_train, temp], axis=1)"
   ]
  },
  {
   "cell_type": "code",
   "execution_count": null,
   "metadata": {
    "collapsed": true
   },
   "outputs": [],
   "source": [
    "train_meta = pd.concat([X_train, train['TARGET']], axis=1)"
   ]
  },
  {
   "cell_type": "code",
   "execution_count": null,
   "metadata": {
    "collapsed": false
   },
   "outputs": [],
   "source": [
    "train_meta.head()"
   ]
  },
  {
   "cell_type": "code",
   "execution_count": null,
   "metadata": {
    "collapsed": true
   },
   "outputs": [],
   "source": [
    "X_test, Y_test = test.ix[:,:-1], test['TARGET']"
   ]
  },
  {
   "cell_type": "code",
   "execution_count": null,
   "metadata": {
    "collapsed": true
   },
   "outputs": [],
   "source": [
    "for rf in rfs:\n",
    "    temp = rf.predict(test.ix[:,:-1])\n",
    "    temp = pd.DataFrame(temp)\n",
    "    X_test = pd.concat([X_test, temp], axis=1)"
   ]
  },
  {
   "cell_type": "code",
   "execution_count": null,
   "metadata": {
    "collapsed": true
   },
   "outputs": [],
   "source": [
    "Y_test = test['TARGET']"
   ]
  },
  {
   "cell_type": "code",
   "execution_count": null,
   "metadata": {
    "collapsed": false
   },
   "outputs": [],
   "source": [
    "X_test.head()"
   ]
  },
  {
   "cell_type": "code",
   "execution_count": null,
   "metadata": {
    "collapsed": true
   },
   "outputs": [],
   "source": [
    "from sklearn.linear_model import LogisticRegression"
   ]
  },
  {
   "cell_type": "code",
   "execution_count": null,
   "metadata": {
    "collapsed": true
   },
   "outputs": [],
   "source": [
    "# random regularization\n",
    "cv = {}"
   ]
  },
  {
   "cell_type": "code",
   "execution_count": null,
   "metadata": {
    "collapsed": false
   },
   "outputs": [],
   "source": [
    "for _ in range(20):\n",
    "    n_trees = np.random.randint(50,300)\n",
    "    lg = RandomForestClassifier(n_estimators = n_trees)\n",
    "    lg.fit(X_train, Y_train)\n",
    "    cv[n_trees] = roc_auc_score(Y_test, lg.predict(X_test))\n",
    "    print(cv[n_trees])"
   ]
  },
  {
   "cell_type": "code",
   "execution_count": null,
   "metadata": {
    "collapsed": false
   },
   "outputs": [],
   "source": [
    "for key in sorted(cv.keys(), key=cv.get)[::-1]:\n",
    "    print(key,cv[key])"
   ]
  },
  {
   "cell_type": "markdown",
   "metadata": {},
   "source": [
    "### Score analysis"
   ]
  },
  {
   "cell_type": "code",
   "execution_count": null,
   "metadata": {
    "collapsed": false
   },
   "outputs": [],
   "source": [
    "X_test, Y_test = test.ix[:,:-1], test.ix[:,-1]\n",
    "n = 100\n",
    "a = 0.25\n",
    "w = 1\n",
    "N_forest = 5\n",
    "n_trees = 5"
   ]
  },
  {
   "cell_type": "code",
   "execution_count": null,
   "metadata": {
    "collapsed": false
   },
   "outputs": [],
   "source": [
    "scores = []\n",
    "for _ in range(n):\n",
    "    rfs = trainForests(train, a, w, N_forest,n_trees)\n",
    "    Y_prob = mean_ensemble(rfs, X_test)\n",
    "    scores.append(roc_auc_score(Y_test,Y_prob))\n",
    "scores = pd.DataFrame(scores)"
   ]
  },
  {
   "cell_type": "code",
   "execution_count": null,
   "metadata": {
    "collapsed": false
   },
   "outputs": [],
   "source": [
    "scores.describe()"
   ]
  },
  {
   "cell_type": "code",
   "execution_count": null,
   "metadata": {
    "collapsed": false
   },
   "outputs": [],
   "source": [
    "plt.title(\"Distribution of scores\")\n",
    "plt.hist(scores)\n",
    "plt.show()"
   ]
  },
  {
   "cell_type": "code",
   "execution_count": null,
   "metadata": {
    "collapsed": true
   },
   "outputs": [],
   "source": [
    "# If desired, transform probabilities into class labels.\n",
    "def threshold(Y_prob, threshold = 0.5):\n",
    "    result = []\n",
    "    for y in Y_prob:\n",
    "        if y <= threshold:\n",
    "            result.append(0)\n",
    "        else:\n",
    "            result.append(1)\n",
    "    return result"
   ]
  },
  {
   "cell_type": "code",
   "execution_count": null,
   "metadata": {
    "collapsed": false
   },
   "outputs": [],
   "source": [
    "# Evaluate class labels\n",
    "Y_pred = threshold(Y_prob, threshold = 0.5)\n",
    "_ = eval_classification(test['TARGET'],Y_pred, print_results = True)"
   ]
  },
  {
   "cell_type": "code",
   "execution_count": null,
   "metadata": {
    "collapsed": true
   },
   "outputs": [],
   "source": [
    "# Plot feature importance\n",
    "def plot_features(forest):  \n",
    "    importances = forest.feature_importances_\n",
    "    std = np.std([tree.feature_importances_ for tree in forest.estimators_], axis=0)\n",
    "    indices = np.argsort(importances)[::-1]\n",
    "    n=len(indices)\n",
    "    # Plot the feature importances of the forest\n",
    "    plt.figure()\n",
    "    plt.title(\"Feature importances\")\n",
    "    plt.bar(range(n), importances[indices],\n",
    "           color=\"r\", yerr=std[indices], align=\"center\")\n",
    "    plt.xticks(range(n), indices)\n",
    "    plt.xlim([-1, n])\n",
    "    plt.show()"
   ]
  },
  {
   "cell_type": "code",
   "execution_count": null,
   "metadata": {
    "collapsed": false
   },
   "outputs": [],
   "source": [
    "train.head()"
   ]
  },
  {
   "cell_type": "markdown",
   "metadata": {},
   "source": [
    "# Create Submission"
   ]
  },
  {
   "cell_type": "code",
   "execution_count": null,
   "metadata": {
    "collapsed": true
   },
   "outputs": [],
   "source": [
    "# Retrain forest on the whole 'train.csv' data\n",
    "rfs = trainForests(data, a, w, N_forest, n_trees, msl)"
   ]
  },
  {
   "cell_type": "code",
   "execution_count": null,
   "metadata": {
    "collapsed": true
   },
   "outputs": [],
   "source": [
    "test = pd.read_csv('data/test.csv')\n",
    "test_id = test.ix[:,'ID'].values\n",
    "process(test)"
   ]
  },
  {
   "cell_type": "code",
   "execution_count": null,
   "metadata": {
    "collapsed": false
   },
   "outputs": [],
   "source": [
    "Y_prob = mean_ensemble(rfs,test)"
   ]
  },
  {
   "cell_type": "code",
   "execution_count": null,
   "metadata": {
    "collapsed": false
   },
   "outputs": [],
   "source": [
    "create_submission(test_id, Y_prob['geometric'])"
   ]
  },
  {
   "cell_type": "markdown",
   "metadata": {},
   "source": [
    "## Ensemble RF and XGBOOST"
   ]
  },
  {
   "cell_type": "code",
   "execution_count": null,
   "metadata": {
    "collapsed": true
   },
   "outputs": [],
   "source": [
    "Y_boost = pd.read_csv('../Kaggle_Santander-master/simplexgbtest.csv')"
   ]
  },
  {
   "cell_type": "code",
   "execution_count": null,
   "metadata": {
    "collapsed": false
   },
   "outputs": [],
   "source": [
    "Y_boost.head()"
   ]
  },
  {
   "cell_type": "code",
   "execution_count": null,
   "metadata": {
    "collapsed": true
   },
   "outputs": [],
   "source": [
    "Y_rf = pd.read_csv('submissions/rforest_ensemble2.csv')"
   ]
  },
  {
   "cell_type": "code",
   "execution_count": null,
   "metadata": {
    "collapsed": false
   },
   "outputs": [],
   "source": [
    "Y_rf.head()"
   ]
  },
  {
   "cell_type": "code",
   "execution_count": null,
   "metadata": {
    "collapsed": true
   },
   "outputs": [],
   "source": [
    "Y_prob = pd.concat([Y_boost,Y_rf.ix[:,'TARGET']], axis=1, ignore_index=True)"
   ]
  },
  {
   "cell_type": "code",
   "execution_count": null,
   "metadata": {
    "collapsed": false
   },
   "outputs": [],
   "source": [
    "Y_prob.rename(columns ={0:'ID', 1:'xgb', 2: 'rfe' }, inplace = True)"
   ]
  },
  {
   "cell_type": "code",
   "execution_count": null,
   "metadata": {
    "collapsed": false
   },
   "outputs": [],
   "source": [
    "# geometric mean ensemble\n",
    "l = 2 #number of predictors to ensemble\n",
    "temp = Y_prob.ix[:,1:].product(axis=1)\n",
    "temp = temp.apply(lambda x: np.power(x, 1./l))\n",
    "Y_prob['geometric'] = temp"
   ]
  },
  {
   "cell_type": "code",
   "execution_count": null,
   "metadata": {
    "collapsed": true
   },
   "outputs": [],
   "source": [
    "# arithmetic mean ensemble\n",
    "l = 2 #number of predictors to ensemble\n",
    "temp = Y_prob[['xgb', 'rfe']].mean(axis=1)\n",
    "temp = temp.apply(lambda x: np.power(x, 1./l))\n",
    "Y_prob['arithmetic'] = temp"
   ]
  },
  {
   "cell_type": "code",
   "execution_count": null,
   "metadata": {
    "collapsed": false
   },
   "outputs": [],
   "source": [
    "# difference column\n",
    "temp = Y_prob['xgb'] - Y_prob['rfe']\n",
    "Y_prob['xgb - rfe'] = temp"
   ]
  },
  {
   "cell_type": "code",
   "execution_count": null,
   "metadata": {
    "collapsed": true
   },
   "outputs": [],
   "source": [
    "# difference column\n",
    "temp = Y_prob['geometric'] - Y_prob['arithmetic']\n",
    "Y_prob['geo - ari'] = temp"
   ]
  },
  {
   "cell_type": "code",
   "execution_count": null,
   "metadata": {
    "collapsed": false
   },
   "outputs": [],
   "source": [
    "Y_prob.head()"
   ]
  },
  {
   "cell_type": "code",
   "execution_count": null,
   "metadata": {
    "collapsed": false
   },
   "outputs": [],
   "source": [
    "plt.title('Differences between XGB and RFE')\n",
    "plt.hist(Y_prob['xgb - rfe'])\n",
    "plt.show()"
   ]
  },
  {
   "cell_type": "code",
   "execution_count": null,
   "metadata": {
    "collapsed": false
   },
   "outputs": [],
   "source": [
    "plt.title('Differences between ensembles')\n",
    "plt.hist(Y_prob['geo - ari'])\n",
    "plt.show()"
   ]
  },
  {
   "cell_type": "code",
   "execution_count": null,
   "metadata": {
    "collapsed": false
   },
   "outputs": [],
   "source": [
    "create_submission(test_id, Y_prob['arithmetic'])"
   ]
  },
  {
   "cell_type": "code",
   "execution_count": null,
   "metadata": {
    "collapsed": true
   },
   "outputs": [],
   "source": []
  }
 ],
 "metadata": {
  "kernelspec": {
   "display_name": "Python 3",
   "language": "python",
   "name": "python3"
  },
  "language_info": {
   "codemirror_mode": {
    "name": "ipython",
    "version": 3
   },
   "file_extension": ".py",
   "mimetype": "text/x-python",
   "name": "python",
   "nbconvert_exporter": "python",
   "pygments_lexer": "ipython3",
   "version": "3.5.2"
  }
 },
 "nbformat": 4,
 "nbformat_minor": 0
}
