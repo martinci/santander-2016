{
 "cells": [
  {
   "cell_type": "markdown",
   "metadata": {},
   "source": [
    "# Santander Customer Satisfaction\n",
    "\n",
    "This Kaggle competition is about predicting customer satisfaction from a data set provided by Santander bank. Let's take a look!"
   ]
  },
  {
   "cell_type": "code",
   "execution_count": 1,
   "metadata": {
    "collapsed": false
   },
   "outputs": [],
   "source": [
    "import pandas as pd\n",
    "import numpy as np\n",
    "import matplotlib.pyplot as plt\n",
    "import seaborn as sns\n",
    "import re\n",
    "%matplotlib inline"
   ]
  },
  {
   "cell_type": "code",
   "execution_count": 2,
   "metadata": {
    "collapsed": false
   },
   "outputs": [],
   "source": [
    "data = pd.read_csv('data/train.csv')"
   ]
  },
  {
   "cell_type": "code",
   "execution_count": null,
   "metadata": {
    "collapsed": false
   },
   "outputs": [],
   "source": [
    "data.head()"
   ]
  },
  {
   "cell_type": "code",
   "execution_count": null,
   "metadata": {
    "collapsed": false,
    "scrolled": true
   },
   "outputs": [],
   "source": [
    "data.tail()"
   ]
  },
  {
   "cell_type": "code",
   "execution_count": null,
   "metadata": {
    "collapsed": false
   },
   "outputs": [],
   "source": [
    "data.shape"
   ]
  },
  {
   "cell_type": "markdown",
   "metadata": {},
   "source": [
    "We have 371 fetaures, the first one being an ID to identify the observation and the last one, 'TARGET', is the one we want to predict: 1 for unsatisfied customer and 0 for a satisfied customer. Curiously enough, some feature names appear to be in spanish. For example, \"saldo\\_medio ...\" can be translated to \"mean\\_balance\\_...\" so we can have some intuition about the meaning of the features."
   ]
  },
  {
   "cell_type": "code",
   "execution_count": null,
   "metadata": {
    "collapsed": false
   },
   "outputs": [],
   "source": [
    "# There is an unique ID per observation. We might as well drop ID.\n",
    "len(data.ID.unique())"
   ]
  },
  {
   "cell_type": "code",
   "execution_count": 3,
   "metadata": {
    "collapsed": false
   },
   "outputs": [],
   "source": [
    "data.drop('ID', axis=1, inplace=True)"
   ]
  },
  {
   "cell_type": "code",
   "execution_count": null,
   "metadata": {
    "collapsed": false
   },
   "outputs": [],
   "source": [
    "data.columns"
   ]
  },
  {
   "cell_type": "markdown",
   "metadata": {},
   "source": [
    "As expected, the names of the features are in Spanish and contain information about balance, reimbursements, purchases, etc."
   ]
  },
  {
   "cell_type": "code",
   "execution_count": null,
   "metadata": {
    "collapsed": true
   },
   "outputs": [],
   "source": [
    "def display_full(sth):\n",
    "    pd.set_option('display.max_rows', len(sth))\n",
    "    print(sth)\n",
    "    pd.reset_option('display.max_rows')"
   ]
  },
  {
   "cell_type": "code",
   "execution_count": null,
   "metadata": {
    "collapsed": false,
    "scrolled": true
   },
   "outputs": [],
   "source": [
    "display_full(data.ix[0,:])"
   ]
  },
  {
   "cell_type": "code",
   "execution_count": null,
   "metadata": {
    "collapsed": false,
    "scrolled": true
   },
   "outputs": [],
   "source": [
    "idx = np.random.randint(0,len(data))\n",
    "print(idx)\n",
    "display_full(data.ix[idx,:])"
   ]
  },
  {
   "cell_type": "code",
   "execution_count": null,
   "metadata": {
    "collapsed": false
   },
   "outputs": [],
   "source": [
    "data['var36'].describe()"
   ]
  },
  {
   "cell_type": "code",
   "execution_count": null,
   "metadata": {
    "collapsed": false
   },
   "outputs": [],
   "source": [
    "data['var36'].value_counts()"
   ]
  },
  {
   "cell_type": "code",
   "execution_count": null,
   "metadata": {
    "collapsed": false
   },
   "outputs": [],
   "source": [
    "data['var36'].groupby(data['TARGET']).value_counts()"
   ]
  },
  {
   "cell_type": "code",
   "execution_count": null,
   "metadata": {
    "collapsed": false
   },
   "outputs": [],
   "source": [
    "data['var36'].groupby(data['TARGET']).value_counts(normalize=True)"
   ]
  },
  {
   "cell_type": "code",
   "execution_count": null,
   "metadata": {
    "collapsed": false
   },
   "outputs": [],
   "source": [
    "var = [name for name in data.columns if re.match('var',name)]"
   ]
  },
  {
   "cell_type": "code",
   "execution_count": null,
   "metadata": {
    "collapsed": false
   },
   "outputs": [],
   "source": [
    "data[var].describe()"
   ]
  },
  {
   "cell_type": "code",
   "execution_count": null,
   "metadata": {
    "collapsed": false
   },
   "outputs": [],
   "source": [
    "data.describe()"
   ]
  },
  {
   "cell_type": "markdown",
   "metadata": {},
   "source": [
    "We can see some strange things, a lot of the variables have 0's in their percinteles. Let's take a closer look."
   ]
  },
  {
   "cell_type": "code",
   "execution_count": null,
   "metadata": {
    "collapsed": false
   },
   "outputs": [],
   "source": [
    "temp = data.imp_ent_var16_ult1[data.imp_ent_var16_ult1 != 0]\n",
    "len(temp)"
   ]
  },
  {
   "cell_type": "markdown",
   "metadata": {},
   "source": [
    "It seems that it is a feature that not many observations have. Taking a guess here, imp\\_ent\\_.. could be \"importe de entrada...\", an initial deposit for some sort financial product offered by Santander that not that many people have.\n",
    "\n",
    "An option that is worthwile exploring is to use these features as indicators of the client having that product. Maybe something like:\n",
    "0 doesn't have the prodcut, 1 has product with small initial deposit, 2 same but with higher deposit, 3 etc."
   ]
  },
  {
   "cell_type": "markdown",
   "metadata": {},
   "source": [
    "Question: What proportion of observations have non-zero value?\n",
    "\n",
    "Answer: It turns out that only about 5% of the observations."
   ]
  },
  {
   "cell_type": "code",
   "execution_count": null,
   "metadata": {
    "collapsed": true
   },
   "outputs": [],
   "source": [
    "n_obs, n_features = data.shape"
   ]
  },
  {
   "cell_type": "code",
   "execution_count": null,
   "metadata": {
    "collapsed": false
   },
   "outputs": [],
   "source": [
    "len(temp)/n_obs"
   ]
  },
  {
   "cell_type": "markdown",
   "metadata": {},
   "source": [
    "Let's do the same for the rest of the features."
   ]
  },
  {
   "cell_type": "code",
   "execution_count": 4,
   "metadata": {
    "collapsed": true
   },
   "outputs": [],
   "source": [
    "def non_zero_proportion(column):\n",
    "    return len(data[column][data[column] != 0])/data.shape[0]"
   ]
  },
  {
   "cell_type": "code",
   "execution_count": 5,
   "metadata": {
    "collapsed": false
   },
   "outputs": [],
   "source": [
    "non_zero = pd.DataFrame(columns = ['feature', 'pct'])"
   ]
  },
  {
   "cell_type": "code",
   "execution_count": 6,
   "metadata": {
    "collapsed": false
   },
   "outputs": [],
   "source": [
    "for name in data.columns:\n",
    "    non_zero = non_zero.append({\"feature\": name, \"pct\": non_zero_proportion(name)*100}, ignore_index=True)"
   ]
  },
  {
   "cell_type": "code",
   "execution_count": null,
   "metadata": {
    "collapsed": false
   },
   "outputs": [],
   "source": [
    "non_zero\n",
    "# Note that the value of pct ranges from 0% to 100%."
   ]
  },
  {
   "cell_type": "code",
   "execution_count": null,
   "metadata": {
    "collapsed": false,
    "scrolled": true
   },
   "outputs": [],
   "source": [
    "non_zero.describe()"
   ]
  },
  {
   "cell_type": "markdown",
   "metadata": {},
   "source": [
    "A mean of 9.08 indicates that most entries in the data set are 0's. In fact, a few of the variables only contain zeros! We should drop them."
   ]
  },
  {
   "cell_type": "code",
   "execution_count": 7,
   "metadata": {
    "collapsed": false
   },
   "outputs": [],
   "source": [
    "deleted = []\n",
    "for name in data.columns:\n",
    "    if sum(data[name]) == 0:\n",
    "        data.drop(name, axis = 1, inplace=True)\n",
    "        deleted.append(name)"
   ]
  },
  {
   "cell_type": "code",
   "execution_count": null,
   "metadata": {
    "collapsed": false
   },
   "outputs": [],
   "source": [
    "data.shape"
   ]
  },
  {
   "cell_type": "markdown",
   "metadata": {},
   "source": [
    "We have eliminated 34 features this way. We should also update the non_zero data frame."
   ]
  },
  {
   "cell_type": "code",
   "execution_count": 8,
   "metadata": {
    "collapsed": false
   },
   "outputs": [],
   "source": [
    "non_zero = non_zero[non_zero.pct != 0]"
   ]
  },
  {
   "cell_type": "code",
   "execution_count": null,
   "metadata": {
    "collapsed": false
   },
   "outputs": [],
   "source": [
    "non_zero.describe()"
   ]
  },
  {
   "cell_type": "code",
   "execution_count": null,
   "metadata": {
    "collapsed": false
   },
   "outputs": [],
   "source": [
    "data.describe()"
   ]
  },
  {
   "cell_type": "markdown",
   "metadata": {},
   "source": [
    "Some of the variables have a log normal distribution.\n",
    "\n",
    "'var38' and to a lesser extend, 'saldo\\_\\*' variables"
   ]
  },
  {
   "cell_type": "code",
   "execution_count": null,
   "metadata": {
    "collapsed": false,
    "scrolled": true
   },
   "outputs": [],
   "source": [
    "plt.hist(data['var38'].apply(np.log),bins=100)\n",
    "plt.title('var38')\n",
    "plt.show()"
   ]
  },
  {
   "cell_type": "code",
   "execution_count": 9,
   "metadata": {
    "collapsed": true
   },
   "outputs": [],
   "source": [
    "# we take care of that nasty -999,999 value in var2\n",
    "for i in data.index:\n",
    "        if data.ix[i,'var3'] == 2:\n",
    "            data.set_value(i,'var3', 0)\n",
    "        else:\n",
    "            data.set_value(i,'var3', 1)"
   ]
  },
  {
   "cell_type": "markdown",
   "metadata": {},
   "source": [
    "## Some feature analysis"
   ]
  },
  {
   "cell_type": "code",
   "execution_count": null,
   "metadata": {
    "collapsed": true
   },
   "outputs": [],
   "source": [
    "def display_full(something):\n",
    "    pd.set_option('display.max_rows', len(something))\n",
    "    print(something)\n",
    "    pd.reset_option('display.max_rows')"
   ]
  },
  {
   "cell_type": "code",
   "execution_count": null,
   "metadata": {
    "collapsed": true
   },
   "outputs": [],
   "source": []
  },
  {
   "cell_type": "code",
   "execution_count": 10,
   "metadata": {
    "collapsed": true
   },
   "outputs": [],
   "source": [
    "#var38 and the saldo variables have a log-normal distribution\n",
    "data['var38'] = data['var38'].apply(np.log)"
   ]
  },
  {
   "cell_type": "code",
   "execution_count": 11,
   "metadata": {
    "collapsed": false
   },
   "outputs": [],
   "source": [
    "# New feature counting zero entries. It represents the customer activity.\n",
    "original_features = data.columns[:-1]\n",
    "data.insert(len(original_features),'SumZeros',(data[original_features] == 0).sum(axis=1))\n",
    "\n",
    "# New feature describing the number of assets.\n",
    "asset_features = [name for name in data.columns if 'ind' in name]\n",
    "temp = data[asset_features].sum(axis=1)\n",
    "data.insert(data.shape[1]-1, 'NumAssets', temp)"
   ]
  },
  {
   "cell_type": "markdown",
   "metadata": {},
   "source": [
    "# 'Saldo' features analysis \n",
    "## We look at the distribution of saldo features ignoring 0's"
   ]
  },
  {
   "cell_type": "code",
   "execution_count": 12,
   "metadata": {
    "collapsed": true
   },
   "outputs": [],
   "source": [
    "#In the course of this analysis we found that 'saldo_var13_medio' is not properly formatted. \n",
    "#We include this on \"process_data\" to change it into 'saldo_mediio_var13' for consistency.\n",
    "data.rename(columns={'saldo_var13_medio': 'saldo_medio_var13'}, inplace=True)"
   ]
  },
  {
   "cell_type": "code",
   "execution_count": 13,
   "metadata": {
    "collapsed": true
   },
   "outputs": [],
   "source": [
    "saldo_features = [name for name in data.columns if 'saldo' in name]"
   ]
  },
  {
   "cell_type": "code",
   "execution_count": 14,
   "metadata": {
    "collapsed": true
   },
   "outputs": [],
   "source": [
    "data_saldo = data[saldo_features]"
   ]
  },
  {
   "cell_type": "code",
   "execution_count": null,
   "metadata": {
    "collapsed": false,
    "scrolled": true
   },
   "outputs": [],
   "source": [
    "for name in data_saldo.columns:\n",
    "    # ignore 0 values\n",
    "    temp = data_saldo[name][data_saldo[name] != 0].reset_index(drop=True)\n",
    "    temp = temp\n",
    "    # bring values to the positive \n",
    "    temp = temp + 1 - temp.min()\n",
    "    # apply log\n",
    "    temp = temp.apply(np.log)\n",
    "    # plot hist    \n",
    "    plt.hist(temp)\n",
    "    plt.title(name)\n",
    "    plt.show()\n",
    "    #print(\"Can't plot feature {}\".format(name))"
   ]
  },
  {
   "cell_type": "code",
   "execution_count": null,
   "metadata": {
    "collapsed": true
   },
   "outputs": [],
   "source": [
    "camel = ['saldo_var6', 'saldo_medio_var13', 'saldo_var18', \n",
    " 'saldo_var29', 'saldo_var34', 'saldo_medio_var29_ult3']\n",
    "spike = ['saldo_var30', 'saldo_var42', 'saldo_medio_var5_hace2',\n",
    "         'saldo_medio_var5_hace3', 'saldo_medio_var5_ult1']"
   ]
  },
  {
   "cell_type": "code",
   "execution_count": null,
   "metadata": {
    "collapsed": false,
    "scrolled": true
   },
   "outputs": [],
   "source": [
    "for name in camel:\n",
    "    print(data[name].groupby(data['TARGET']).value_counts())"
   ]
  },
  {
   "cell_type": "code",
   "execution_count": null,
   "metadata": {
    "collapsed": false,
    "scrolled": true
   },
   "outputs": [],
   "source": [
    "for name in spike:\n",
    "    print(data[name].groupby(data['TARGET']).value_counts())"
   ]
  },
  {
   "cell_type": "markdown",
   "metadata": {},
   "source": [
    "## Creating saldo features\n",
    "\n",
    "We are going to create a few saldo features:\n",
    "- mean\\_saldo: average of all features of the type 'saldo_var{\\d}'.\n",
    "- mean\\_saldo_medio: average of all features of the type 'saldo\\_medio_var{\\d}'.\n",
    "- mean\\_saldo\\_medio\\_{ult{\\d}, hace{\\d}}: Similar to above"
   ]
  },
  {
   "cell_type": "code",
   "execution_count": null,
   "metadata": {
    "collapsed": false,
    "scrolled": false
   },
   "outputs": [],
   "source": [
    "for name in saldo_features:\n",
    "    if 'hace' in name or 'ult' in name:\n",
    "        print(name)"
   ]
  },
  {
   "cell_type": "markdown",
   "metadata": {},
   "source": [
    "As we can see, all the features containing 'hace' or 'ult' are of the 'medio' variety."
   ]
  },
  {
   "cell_type": "code",
   "execution_count": 15,
   "metadata": {
    "collapsed": false,
    "scrolled": true
   },
   "outputs": [
    {
     "name": "stdout",
     "output_type": "stream",
     "text": [
      "saldo_var1\n",
      "saldo_var5\n",
      "saldo_var6\n",
      "saldo_var8\n",
      "saldo_var12\n",
      "saldo_var13_corto\n",
      "saldo_var13_largo\n",
      "saldo_var13\n",
      "saldo_var14\n",
      "saldo_var17\n",
      "saldo_var18\n",
      "saldo_var20\n",
      "saldo_var24\n",
      "saldo_var26\n",
      "saldo_var25\n",
      "saldo_var29\n",
      "saldo_var30\n",
      "saldo_var31\n",
      "saldo_var32\n",
      "saldo_var33\n",
      "saldo_var34\n",
      "saldo_var37\n",
      "saldo_var40\n",
      "saldo_var42\n",
      "saldo_var44\n"
     ]
    }
   ],
   "source": [
    "# features for 'saldo_medio'\n",
    "mean_saldo_features = []\n",
    "for name in saldo_features:\n",
    "    if 'medio' not in name:\n",
    "        print(name)\n",
    "        mean_saldo_features.append(name)"
   ]
  },
  {
   "cell_type": "code",
   "execution_count": null,
   "metadata": {
    "collapsed": false
   },
   "outputs": [],
   "source": [
    "len(mean_saldo_features)"
   ]
  },
  {
   "cell_type": "code",
   "execution_count": 16,
   "metadata": {
    "collapsed": false
   },
   "outputs": [],
   "source": [
    "temp = data[mean_saldo_features]\n",
    "temp = np.nanmean(temp, axis=1)\n",
    "data.insert(0, 'mean_saldo', temp)  "
   ]
  },
  {
   "cell_type": "code",
   "execution_count": null,
   "metadata": {
    "collapsed": false
   },
   "outputs": [],
   "source": [
    "data.head()"
   ]
  },
  {
   "cell_type": "code",
   "execution_count": 17,
   "metadata": {
    "collapsed": false
   },
   "outputs": [
    {
     "name": "stdout",
     "output_type": "stream",
     "text": [
      "saldo_medio_var13\n"
     ]
    }
   ],
   "source": [
    "mean_saldo_medio_features = []\n",
    "for name in saldo_features:\n",
    "    if 'medio' in name:\n",
    "        if 'hace' not in name and 'ult' not in name:\n",
    "            print(name)"
   ]
  },
  {
   "cell_type": "code",
   "execution_count": null,
   "metadata": {
    "collapsed": false
   },
   "outputs": [],
   "source": [
    "data['saldo_medio_var13'].groupby(data['TARGET']).value_counts()"
   ]
  },
  {
   "cell_type": "markdown",
   "metadata": {},
   "source": [
    "We can probably ignore this feature."
   ]
  },
  {
   "cell_type": "code",
   "execution_count": 18,
   "metadata": {
    "collapsed": false
   },
   "outputs": [],
   "source": [
    "mean_saldo_medio_hace1_features =[]\n",
    "for name in saldo_features:\n",
    "    if 'hace1' in name:\n",
    "            print(name)"
   ]
  },
  {
   "cell_type": "markdown",
   "metadata": {},
   "source": [
    "No 'hace1' features"
   ]
  },
  {
   "cell_type": "code",
   "execution_count": 19,
   "metadata": {
    "collapsed": false
   },
   "outputs": [
    {
     "name": "stdout",
     "output_type": "stream",
     "text": [
      "saldo_medio_var5_hace2\n",
      "saldo_medio_var8_hace2\n",
      "saldo_medio_var12_hace2\n",
      "saldo_medio_var13_corto_hace2\n",
      "saldo_medio_var13_largo_hace2\n",
      "saldo_medio_var13_medio_hace2\n",
      "saldo_medio_var17_hace2\n",
      "saldo_medio_var29_hace2\n",
      "saldo_medio_var33_hace2\n",
      "saldo_medio_var44_hace2\n"
     ]
    }
   ],
   "source": [
    "mean_saldo_medio_hace2_features =[]\n",
    "for name in saldo_features:\n",
    "    if 'hace2' in name:\n",
    "            print(name)\n",
    "            mean_saldo_medio_hace2_features.append(name)"
   ]
  },
  {
   "cell_type": "code",
   "execution_count": 20,
   "metadata": {
    "collapsed": true
   },
   "outputs": [],
   "source": [
    "temp = data[mean_saldo_medio_hace2_features]\n",
    "temp = np.nanmean(temp, axis=1)\n",
    "data.insert(0, 'mean_saldo_medio_hace2', temp)  "
   ]
  },
  {
   "cell_type": "code",
   "execution_count": null,
   "metadata": {
    "collapsed": false
   },
   "outputs": [],
   "source": [
    "data.head()"
   ]
  },
  {
   "cell_type": "code",
   "execution_count": 21,
   "metadata": {
    "collapsed": false
   },
   "outputs": [
    {
     "name": "stdout",
     "output_type": "stream",
     "text": [
      "saldo_medio_var5_hace3\n",
      "saldo_medio_var8_hace3\n",
      "saldo_medio_var12_hace3\n",
      "saldo_medio_var13_corto_hace3\n",
      "saldo_medio_var13_largo_hace3\n",
      "saldo_medio_var17_hace3\n",
      "saldo_medio_var29_hace3\n",
      "saldo_medio_var33_hace3\n",
      "saldo_medio_var44_hace3\n"
     ]
    }
   ],
   "source": [
    "mean_saldo_medio_hace3_features =[]\n",
    "for name in saldo_features:\n",
    "    if 'hace3' in name:\n",
    "            print(name)\n",
    "            mean_saldo_medio_hace3_features.append(name)"
   ]
  },
  {
   "cell_type": "code",
   "execution_count": 22,
   "metadata": {
    "collapsed": false
   },
   "outputs": [],
   "source": [
    "temp = data[mean_saldo_medio_hace3_features]\n",
    "temp = np.nanmean(temp, axis=1)\n",
    "data.insert(0, 'mean_saldo_medio_hace3', temp)"
   ]
  },
  {
   "cell_type": "code",
   "execution_count": null,
   "metadata": {
    "collapsed": false
   },
   "outputs": [],
   "source": [
    "data.head()"
   ]
  },
  {
   "cell_type": "code",
   "execution_count": 23,
   "metadata": {
    "collapsed": false
   },
   "outputs": [
    {
     "name": "stdout",
     "output_type": "stream",
     "text": [
      "saldo_medio_var5_ult1\n",
      "saldo_medio_var8_ult1\n",
      "saldo_medio_var12_ult1\n",
      "saldo_medio_var13_corto_ult1\n",
      "saldo_medio_var13_largo_ult1\n",
      "saldo_medio_var13_medio_ult1\n",
      "saldo_medio_var17_ult1\n",
      "saldo_medio_var29_ult1\n",
      "saldo_medio_var33_ult1\n",
      "saldo_medio_var44_ult1\n"
     ]
    }
   ],
   "source": [
    "mean_saldo_medio_ult1_features =[]\n",
    "for name in saldo_features:\n",
    "    if 'ult1' in name:\n",
    "            print(name)\n",
    "            mean_saldo_medio_ult1_features.append(name)"
   ]
  },
  {
   "cell_type": "code",
   "execution_count": 24,
   "metadata": {
    "collapsed": true
   },
   "outputs": [],
   "source": [
    "temp = data[mean_saldo_medio_ult1_features]\n",
    "temp = np.nanmean(temp, axis=1)\n",
    "data.insert(0, 'mean_saldo_medio_ult1', temp)"
   ]
  },
  {
   "cell_type": "code",
   "execution_count": 25,
   "metadata": {
    "collapsed": false
   },
   "outputs": [],
   "source": [
    "mean_saldo_medio_ult2_features =[]\n",
    "for name in saldo_features:\n",
    "    if 'ult2' in name:\n",
    "            print(name)\n",
    "            mean_saldo_medio_ult2_features.append(name)"
   ]
  },
  {
   "cell_type": "markdown",
   "metadata": {},
   "source": [
    "No 'ult2' features"
   ]
  },
  {
   "cell_type": "code",
   "execution_count": 26,
   "metadata": {
    "collapsed": false
   },
   "outputs": [
    {
     "name": "stdout",
     "output_type": "stream",
     "text": [
      "saldo_medio_var5_ult3\n",
      "saldo_medio_var8_ult3\n",
      "saldo_medio_var12_ult3\n",
      "saldo_medio_var13_corto_ult3\n",
      "saldo_medio_var13_largo_ult3\n",
      "saldo_medio_var13_medio_ult3\n",
      "saldo_medio_var17_ult3\n",
      "saldo_medio_var29_ult3\n",
      "saldo_medio_var33_ult3\n",
      "saldo_medio_var44_ult3\n"
     ]
    }
   ],
   "source": [
    "mean_saldo_medio_ult3_features =[]\n",
    "for name in saldo_features:\n",
    "    if 'ult3' in name:\n",
    "            print(name)\n",
    "            mean_saldo_medio_ult3_features.append(name)"
   ]
  },
  {
   "cell_type": "code",
   "execution_count": 27,
   "metadata": {
    "collapsed": false
   },
   "outputs": [],
   "source": [
    "temp = data[mean_saldo_medio_ult3_features]\n",
    "temp = np.nanmean(temp, axis=1)\n",
    "data.insert(0, 'mean_saldo_medio_ult3', temp)"
   ]
  },
  {
   "cell_type": "code",
   "execution_count": 28,
   "metadata": {
    "collapsed": false
   },
   "outputs": [
    {
     "data": {
      "text/html": [
       "<div>\n",
       "<table border=\"1\" class=\"dataframe\">\n",
       "  <thead>\n",
       "    <tr style=\"text-align: right;\">\n",
       "      <th></th>\n",
       "      <th>mean_saldo_medio_ult3</th>\n",
       "      <th>mean_saldo_medio_ult1</th>\n",
       "      <th>mean_saldo_medio_hace3</th>\n",
       "      <th>mean_saldo_medio_hace2</th>\n",
       "      <th>mean_saldo</th>\n",
       "      <th>var3</th>\n",
       "      <th>var15</th>\n",
       "      <th>imp_ent_var16_ult1</th>\n",
       "      <th>imp_op_var39_comer_ult1</th>\n",
       "      <th>imp_op_var39_comer_ult3</th>\n",
       "      <th>...</th>\n",
       "      <th>saldo_medio_var33_ult1</th>\n",
       "      <th>saldo_medio_var33_ult3</th>\n",
       "      <th>saldo_medio_var44_hace2</th>\n",
       "      <th>saldo_medio_var44_hace3</th>\n",
       "      <th>saldo_medio_var44_ult1</th>\n",
       "      <th>saldo_medio_var44_ult3</th>\n",
       "      <th>var38</th>\n",
       "      <th>SumZeros</th>\n",
       "      <th>NumAssets</th>\n",
       "      <th>TARGET</th>\n",
       "    </tr>\n",
       "  </thead>\n",
       "  <tbody>\n",
       "    <tr>\n",
       "      <th>0</th>\n",
       "      <td>0.000</td>\n",
       "      <td>0.000</td>\n",
       "      <td>0.000000</td>\n",
       "      <td>0.000</td>\n",
       "      <td>0.0000</td>\n",
       "      <td>0</td>\n",
       "      <td>23</td>\n",
       "      <td>0.0</td>\n",
       "      <td>0.0</td>\n",
       "      <td>0.0</td>\n",
       "      <td>...</td>\n",
       "      <td>0.0</td>\n",
       "      <td>0.0</td>\n",
       "      <td>0.0</td>\n",
       "      <td>0.0</td>\n",
       "      <td>0.0</td>\n",
       "      <td>0.0</td>\n",
       "      <td>10.576564</td>\n",
       "      <td>322</td>\n",
       "      <td>4</td>\n",
       "      <td>0</td>\n",
       "    </tr>\n",
       "    <tr>\n",
       "      <th>1</th>\n",
       "      <td>24.075</td>\n",
       "      <td>30.000</td>\n",
       "      <td>23.456667</td>\n",
       "      <td>30.000</td>\n",
       "      <td>36.0000</td>\n",
       "      <td>0</td>\n",
       "      <td>34</td>\n",
       "      <td>0.0</td>\n",
       "      <td>0.0</td>\n",
       "      <td>0.0</td>\n",
       "      <td>...</td>\n",
       "      <td>0.0</td>\n",
       "      <td>0.0</td>\n",
       "      <td>0.0</td>\n",
       "      <td>0.0</td>\n",
       "      <td>0.0</td>\n",
       "      <td>0.0</td>\n",
       "      <td>10.805234</td>\n",
       "      <td>296</td>\n",
       "      <td>9</td>\n",
       "      <td>0</td>\n",
       "    </tr>\n",
       "    <tr>\n",
       "      <th>2</th>\n",
       "      <td>0.207</td>\n",
       "      <td>0.300</td>\n",
       "      <td>0.020000</td>\n",
       "      <td>0.300</td>\n",
       "      <td>0.3600</td>\n",
       "      <td>0</td>\n",
       "      <td>23</td>\n",
       "      <td>0.0</td>\n",
       "      <td>0.0</td>\n",
       "      <td>0.0</td>\n",
       "      <td>...</td>\n",
       "      <td>0.0</td>\n",
       "      <td>0.0</td>\n",
       "      <td>0.0</td>\n",
       "      <td>0.0</td>\n",
       "      <td>0.0</td>\n",
       "      <td>0.0</td>\n",
       "      <td>11.117417</td>\n",
       "      <td>307</td>\n",
       "      <td>6</td>\n",
       "      <td>0</td>\n",
       "    </tr>\n",
       "    <tr>\n",
       "      <th>3</th>\n",
       "      <td>13.884</td>\n",
       "      <td>9.156</td>\n",
       "      <td>0.000000</td>\n",
       "      <td>18.609</td>\n",
       "      <td>9.8724</td>\n",
       "      <td>0</td>\n",
       "      <td>37</td>\n",
       "      <td>0.0</td>\n",
       "      <td>195.0</td>\n",
       "      <td>195.0</td>\n",
       "      <td>...</td>\n",
       "      <td>0.0</td>\n",
       "      <td>0.0</td>\n",
       "      <td>0.0</td>\n",
       "      <td>0.0</td>\n",
       "      <td>0.0</td>\n",
       "      <td>0.0</td>\n",
       "      <td>11.066763</td>\n",
       "      <td>276</td>\n",
       "      <td>13</td>\n",
       "      <td>0</td>\n",
       "    </tr>\n",
       "    <tr>\n",
       "      <th>4</th>\n",
       "      <td>9900.336</td>\n",
       "      <td>12600.297</td>\n",
       "      <td>0.033333</td>\n",
       "      <td>0.300</td>\n",
       "      <td>21600.4800</td>\n",
       "      <td>0</td>\n",
       "      <td>39</td>\n",
       "      <td>0.0</td>\n",
       "      <td>0.0</td>\n",
       "      <td>0.0</td>\n",
       "      <td>...</td>\n",
       "      <td>0.0</td>\n",
       "      <td>0.0</td>\n",
       "      <td>0.0</td>\n",
       "      <td>0.0</td>\n",
       "      <td>0.0</td>\n",
       "      <td>0.0</td>\n",
       "      <td>11.672584</td>\n",
       "      <td>286</td>\n",
       "      <td>11</td>\n",
       "      <td>0</td>\n",
       "    </tr>\n",
       "  </tbody>\n",
       "</table>\n",
       "<p>5 rows × 343 columns</p>\n",
       "</div>"
      ],
      "text/plain": [
       "   mean_saldo_medio_ult3  mean_saldo_medio_ult1  mean_saldo_medio_hace3  \\\n",
       "0                  0.000                  0.000                0.000000   \n",
       "1                 24.075                 30.000               23.456667   \n",
       "2                  0.207                  0.300                0.020000   \n",
       "3                 13.884                  9.156                0.000000   \n",
       "4               9900.336              12600.297                0.033333   \n",
       "\n",
       "   mean_saldo_medio_hace2  mean_saldo  var3  var15  imp_ent_var16_ult1  \\\n",
       "0                   0.000      0.0000     0     23                 0.0   \n",
       "1                  30.000     36.0000     0     34                 0.0   \n",
       "2                   0.300      0.3600     0     23                 0.0   \n",
       "3                  18.609      9.8724     0     37                 0.0   \n",
       "4                   0.300  21600.4800     0     39                 0.0   \n",
       "\n",
       "   imp_op_var39_comer_ult1  imp_op_var39_comer_ult3   ...    \\\n",
       "0                      0.0                      0.0   ...     \n",
       "1                      0.0                      0.0   ...     \n",
       "2                      0.0                      0.0   ...     \n",
       "3                    195.0                    195.0   ...     \n",
       "4                      0.0                      0.0   ...     \n",
       "\n",
       "   saldo_medio_var33_ult1  saldo_medio_var33_ult3  saldo_medio_var44_hace2  \\\n",
       "0                     0.0                     0.0                      0.0   \n",
       "1                     0.0                     0.0                      0.0   \n",
       "2                     0.0                     0.0                      0.0   \n",
       "3                     0.0                     0.0                      0.0   \n",
       "4                     0.0                     0.0                      0.0   \n",
       "\n",
       "   saldo_medio_var44_hace3  saldo_medio_var44_ult1  saldo_medio_var44_ult3  \\\n",
       "0                      0.0                     0.0                     0.0   \n",
       "1                      0.0                     0.0                     0.0   \n",
       "2                      0.0                     0.0                     0.0   \n",
       "3                      0.0                     0.0                     0.0   \n",
       "4                      0.0                     0.0                     0.0   \n",
       "\n",
       "       var38  SumZeros  NumAssets  TARGET  \n",
       "0  10.576564       322          4       0  \n",
       "1  10.805234       296          9       0  \n",
       "2  11.117417       307          6       0  \n",
       "3  11.066763       276         13       0  \n",
       "4  11.672584       286         11       0  \n",
       "\n",
       "[5 rows x 343 columns]"
      ]
     },
     "execution_count": 28,
     "metadata": {},
     "output_type": "execute_result"
    }
   ],
   "source": [
    "data.head()"
   ]
  },
  {
   "cell_type": "code",
   "execution_count": 29,
   "metadata": {
    "collapsed": true
   },
   "outputs": [],
   "source": [
    "new_features = ['mean_saldo', 'mean_saldo_medio_hace2', 'mean_saldo_medio_hace3', \n",
    "                'mean_saldo_medio_ult1', 'mean_saldo_medio_ult3']"
   ]
  },
  {
   "cell_type": "code",
   "execution_count": 30,
   "metadata": {
    "collapsed": false
   },
   "outputs": [
    {
     "data": {
      "text/html": [
       "<div>\n",
       "<table border=\"1\" class=\"dataframe\">\n",
       "  <thead>\n",
       "    <tr style=\"text-align: right;\">\n",
       "      <th></th>\n",
       "      <th>mean_saldo</th>\n",
       "      <th>mean_saldo_medio_hace2</th>\n",
       "      <th>mean_saldo_medio_hace3</th>\n",
       "      <th>mean_saldo_medio_ult1</th>\n",
       "      <th>mean_saldo_medio_ult3</th>\n",
       "    </tr>\n",
       "  </thead>\n",
       "  <tbody>\n",
       "    <tr>\n",
       "      <th>0</th>\n",
       "      <td>0.0000</td>\n",
       "      <td>0.000</td>\n",
       "      <td>0.000000</td>\n",
       "      <td>0.000</td>\n",
       "      <td>0.000</td>\n",
       "    </tr>\n",
       "    <tr>\n",
       "      <th>1</th>\n",
       "      <td>36.0000</td>\n",
       "      <td>30.000</td>\n",
       "      <td>23.456667</td>\n",
       "      <td>30.000</td>\n",
       "      <td>24.075</td>\n",
       "    </tr>\n",
       "    <tr>\n",
       "      <th>2</th>\n",
       "      <td>0.3600</td>\n",
       "      <td>0.300</td>\n",
       "      <td>0.020000</td>\n",
       "      <td>0.300</td>\n",
       "      <td>0.207</td>\n",
       "    </tr>\n",
       "    <tr>\n",
       "      <th>3</th>\n",
       "      <td>9.8724</td>\n",
       "      <td>18.609</td>\n",
       "      <td>0.000000</td>\n",
       "      <td>9.156</td>\n",
       "      <td>13.884</td>\n",
       "    </tr>\n",
       "    <tr>\n",
       "      <th>4</th>\n",
       "      <td>21600.4800</td>\n",
       "      <td>0.300</td>\n",
       "      <td>0.033333</td>\n",
       "      <td>12600.297</td>\n",
       "      <td>9900.336</td>\n",
       "    </tr>\n",
       "  </tbody>\n",
       "</table>\n",
       "</div>"
      ],
      "text/plain": [
       "   mean_saldo  mean_saldo_medio_hace2  mean_saldo_medio_hace3  \\\n",
       "0      0.0000                   0.000                0.000000   \n",
       "1     36.0000                  30.000               23.456667   \n",
       "2      0.3600                   0.300                0.020000   \n",
       "3      9.8724                  18.609                0.000000   \n",
       "4  21600.4800                   0.300                0.033333   \n",
       "\n",
       "   mean_saldo_medio_ult1  mean_saldo_medio_ult3  \n",
       "0                  0.000                  0.000  \n",
       "1                 30.000                 24.075  \n",
       "2                  0.300                  0.207  \n",
       "3                  9.156                 13.884  \n",
       "4              12600.297               9900.336  "
      ]
     },
     "execution_count": 30,
     "metadata": {},
     "output_type": "execute_result"
    }
   ],
   "source": [
    "data[new_features].head()"
   ]
  },
  {
   "cell_type": "code",
   "execution_count": 31,
   "metadata": {
    "collapsed": false
   },
   "outputs": [
    {
     "data": {
      "text/html": [
       "<div>\n",
       "<table border=\"1\" class=\"dataframe\">\n",
       "  <thead>\n",
       "    <tr style=\"text-align: right;\">\n",
       "      <th></th>\n",
       "      <th>mean_saldo</th>\n",
       "      <th>mean_saldo_medio_hace2</th>\n",
       "      <th>mean_saldo_medio_hace3</th>\n",
       "      <th>mean_saldo_medio_ult1</th>\n",
       "      <th>mean_saldo_medio_ult3</th>\n",
       "    </tr>\n",
       "  </thead>\n",
       "  <tbody>\n",
       "    <tr>\n",
       "      <th>count</th>\n",
       "      <td>76020.000000</td>\n",
       "      <td>76020.000000</td>\n",
       "      <td>76020.000000</td>\n",
       "      <td>76020.000000</td>\n",
       "      <td>76020.000000</td>\n",
       "    </tr>\n",
       "    <tr>\n",
       "      <th>mean</th>\n",
       "      <td>1917.243557</td>\n",
       "      <td>1018.608283</td>\n",
       "      <td>252.494336</td>\n",
       "      <td>1293.413815</td>\n",
       "      <td>1034.383645</td>\n",
       "    </tr>\n",
       "    <tr>\n",
       "      <th>std</th>\n",
       "      <td>9397.918869</td>\n",
       "      <td>5403.666082</td>\n",
       "      <td>2475.431336</td>\n",
       "      <td>6251.549578</td>\n",
       "      <td>5085.250025</td>\n",
       "    </tr>\n",
       "    <tr>\n",
       "      <th>min</th>\n",
       "      <td>-289.728000</td>\n",
       "      <td>-28.767000</td>\n",
       "      <td>-0.893333</td>\n",
       "      <td>-340.134000</td>\n",
       "      <td>-184.452000</td>\n",
       "    </tr>\n",
       "    <tr>\n",
       "      <th>25%</th>\n",
       "      <td>0.000000</td>\n",
       "      <td>0.000000</td>\n",
       "      <td>0.000000</td>\n",
       "      <td>0.000000</td>\n",
       "      <td>0.000000</td>\n",
       "    </tr>\n",
       "    <tr>\n",
       "      <th>50%</th>\n",
       "      <td>0.360000</td>\n",
       "      <td>0.300000</td>\n",
       "      <td>0.116667</td>\n",
       "      <td>0.300000</td>\n",
       "      <td>0.300000</td>\n",
       "    </tr>\n",
       "    <tr>\n",
       "      <th>75%</th>\n",
       "      <td>36.000000</td>\n",
       "      <td>15.000000</td>\n",
       "      <td>1.786667</td>\n",
       "      <td>27.396750</td>\n",
       "      <td>20.853750</td>\n",
       "    </tr>\n",
       "    <tr>\n",
       "      <th>max</th>\n",
       "      <td>570232.315200</td>\n",
       "      <td>421009.236000</td>\n",
       "      <td>434544.256667</td>\n",
       "      <td>400018.857000</td>\n",
       "      <td>404039.307000</td>\n",
       "    </tr>\n",
       "  </tbody>\n",
       "</table>\n",
       "</div>"
      ],
      "text/plain": [
       "          mean_saldo  mean_saldo_medio_hace2  mean_saldo_medio_hace3  \\\n",
       "count   76020.000000            76020.000000            76020.000000   \n",
       "mean     1917.243557             1018.608283              252.494336   \n",
       "std      9397.918869             5403.666082             2475.431336   \n",
       "min      -289.728000              -28.767000               -0.893333   \n",
       "25%         0.000000                0.000000                0.000000   \n",
       "50%         0.360000                0.300000                0.116667   \n",
       "75%        36.000000               15.000000                1.786667   \n",
       "max    570232.315200           421009.236000           434544.256667   \n",
       "\n",
       "       mean_saldo_medio_ult1  mean_saldo_medio_ult3  \n",
       "count           76020.000000           76020.000000  \n",
       "mean             1293.413815            1034.383645  \n",
       "std              6251.549578            5085.250025  \n",
       "min              -340.134000            -184.452000  \n",
       "25%                 0.000000               0.000000  \n",
       "50%                 0.300000               0.300000  \n",
       "75%                27.396750              20.853750  \n",
       "max            400018.857000          404039.307000  "
      ]
     },
     "execution_count": 31,
     "metadata": {},
     "output_type": "execute_result"
    }
   ],
   "source": [
    "data[new_features].describe()"
   ]
  },
  {
   "cell_type": "code",
   "execution_count": null,
   "metadata": {
    "collapsed": false,
    "scrolled": true
   },
   "outputs": [],
   "source": [
    "for name in new_features:\n",
    "    plt.hist(data[name], bins=100)\n",
    "    plt.show()"
   ]
  },
  {
   "cell_type": "code",
   "execution_count": null,
   "metadata": {
    "collapsed": false,
    "scrolled": true
   },
   "outputs": [],
   "source": [
    "# Ploting ignoring 0's (which are basically NaN's)\n",
    "for name in new_features:\n",
    "    # ignore 0 values\n",
    "    temp = data[name][data[name] != 0].reset_index(drop=True)\n",
    "    temp = temp\n",
    "    # bring values to the positive \n",
    "    temp = temp + 1 + abs(temp.min())\n",
    "    # apply log\n",
    "    temp = temp.apply(np.log)\n",
    "    # plot hist    \n",
    "    plt.hist(temp)\n",
    "    plt.title(name)\n",
    "    plt.show()\n",
    "    #print(\"Can't plot feature {}\".format(name))"
   ]
  },
  {
   "cell_type": "markdown",
   "metadata": {},
   "source": [
    "Looks like a good idea to log-transfor these new features. "
   ]
  },
  {
   "cell_type": "code",
   "execution_count": 32,
   "metadata": {
    "collapsed": false,
    "scrolled": true
   },
   "outputs": [],
   "source": [
    "# Optional: log-transform new features\n",
    "for name in new_features:\n",
    "    # ignore 0 values\n",
    "    temp = data[name][data[name] != 0]\n",
    "    temp = temp\n",
    "    # bring values to the positive \n",
    "    temp = temp + 1 - temp.min()\n",
    "    # apply log\n",
    "    temp = temp.apply(np.log)\n",
    "    data[name] = temp"
   ]
  },
  {
   "cell_type": "code",
   "execution_count": 33,
   "metadata": {
    "collapsed": false
   },
   "outputs": [],
   "source": [
    "data.fillna(0, inplace=True)"
   ]
  },
  {
   "cell_type": "code",
   "execution_count": 34,
   "metadata": {
    "collapsed": false
   },
   "outputs": [
    {
     "data": {
      "text/html": [
       "<div>\n",
       "<table border=\"1\" class=\"dataframe\">\n",
       "  <thead>\n",
       "    <tr style=\"text-align: right;\">\n",
       "      <th></th>\n",
       "      <th>mean_saldo_medio_ult3</th>\n",
       "      <th>mean_saldo_medio_ult1</th>\n",
       "      <th>mean_saldo_medio_hace3</th>\n",
       "      <th>mean_saldo_medio_hace2</th>\n",
       "      <th>mean_saldo</th>\n",
       "      <th>var3</th>\n",
       "      <th>var15</th>\n",
       "      <th>imp_ent_var16_ult1</th>\n",
       "      <th>imp_op_var39_comer_ult1</th>\n",
       "      <th>imp_op_var39_comer_ult3</th>\n",
       "      <th>...</th>\n",
       "      <th>saldo_medio_var33_ult1</th>\n",
       "      <th>saldo_medio_var33_ult3</th>\n",
       "      <th>saldo_medio_var44_hace2</th>\n",
       "      <th>saldo_medio_var44_hace3</th>\n",
       "      <th>saldo_medio_var44_ult1</th>\n",
       "      <th>saldo_medio_var44_ult3</th>\n",
       "      <th>var38</th>\n",
       "      <th>SumZeros</th>\n",
       "      <th>NumAssets</th>\n",
       "      <th>TARGET</th>\n",
       "    </tr>\n",
       "  </thead>\n",
       "  <tbody>\n",
       "    <tr>\n",
       "      <th>0</th>\n",
       "      <td>0.000000</td>\n",
       "      <td>0.000000</td>\n",
       "      <td>0.000000</td>\n",
       "      <td>0.000000</td>\n",
       "      <td>0.000000</td>\n",
       "      <td>0</td>\n",
       "      <td>23</td>\n",
       "      <td>0.0</td>\n",
       "      <td>0.0</td>\n",
       "      <td>0.0</td>\n",
       "      <td>...</td>\n",
       "      <td>0.0</td>\n",
       "      <td>0.0</td>\n",
       "      <td>0.0</td>\n",
       "      <td>0.0</td>\n",
       "      <td>0.0</td>\n",
       "      <td>0.0</td>\n",
       "      <td>10.576564</td>\n",
       "      <td>322</td>\n",
       "      <td>4</td>\n",
       "      <td>0</td>\n",
       "    </tr>\n",
       "    <tr>\n",
       "      <th>1</th>\n",
       "      <td>5.344853</td>\n",
       "      <td>5.916563</td>\n",
       "      <td>3.232779</td>\n",
       "      <td>4.090454</td>\n",
       "      <td>5.789128</td>\n",
       "      <td>0</td>\n",
       "      <td>34</td>\n",
       "      <td>0.0</td>\n",
       "      <td>0.0</td>\n",
       "      <td>0.0</td>\n",
       "      <td>...</td>\n",
       "      <td>0.0</td>\n",
       "      <td>0.0</td>\n",
       "      <td>0.0</td>\n",
       "      <td>0.0</td>\n",
       "      <td>0.0</td>\n",
       "      <td>0.0</td>\n",
       "      <td>10.805234</td>\n",
       "      <td>296</td>\n",
       "      <td>9</td>\n",
       "      <td>0</td>\n",
       "    </tr>\n",
       "    <tr>\n",
       "      <th>2</th>\n",
       "      <td>5.223912</td>\n",
       "      <td>5.833154</td>\n",
       "      <td>0.648847</td>\n",
       "      <td>3.403428</td>\n",
       "      <td>5.673626</td>\n",
       "      <td>0</td>\n",
       "      <td>23</td>\n",
       "      <td>0.0</td>\n",
       "      <td>0.0</td>\n",
       "      <td>0.0</td>\n",
       "      <td>...</td>\n",
       "      <td>0.0</td>\n",
       "      <td>0.0</td>\n",
       "      <td>0.0</td>\n",
       "      <td>0.0</td>\n",
       "      <td>0.0</td>\n",
       "      <td>0.0</td>\n",
       "      <td>11.117417</td>\n",
       "      <td>307</td>\n",
       "      <td>6</td>\n",
       "      <td>0</td>\n",
       "    </tr>\n",
       "    <tr>\n",
       "      <th>3</th>\n",
       "      <td>5.294992</td>\n",
       "      <td>5.858761</td>\n",
       "      <td>0.000000</td>\n",
       "      <td>3.879004</td>\n",
       "      <td>5.705782</td>\n",
       "      <td>0</td>\n",
       "      <td>37</td>\n",
       "      <td>0.0</td>\n",
       "      <td>195.0</td>\n",
       "      <td>195.0</td>\n",
       "      <td>...</td>\n",
       "      <td>0.0</td>\n",
       "      <td>0.0</td>\n",
       "      <td>0.0</td>\n",
       "      <td>0.0</td>\n",
       "      <td>0.0</td>\n",
       "      <td>0.0</td>\n",
       "      <td>11.066763</td>\n",
       "      <td>276</td>\n",
       "      <td>13</td>\n",
       "      <td>0</td>\n",
       "    </tr>\n",
       "    <tr>\n",
       "      <th>4</th>\n",
       "      <td>9.218883</td>\n",
       "      <td>9.468189</td>\n",
       "      <td>0.655791</td>\n",
       "      <td>3.403428</td>\n",
       "      <td>9.993840</td>\n",
       "      <td>0</td>\n",
       "      <td>39</td>\n",
       "      <td>0.0</td>\n",
       "      <td>0.0</td>\n",
       "      <td>0.0</td>\n",
       "      <td>...</td>\n",
       "      <td>0.0</td>\n",
       "      <td>0.0</td>\n",
       "      <td>0.0</td>\n",
       "      <td>0.0</td>\n",
       "      <td>0.0</td>\n",
       "      <td>0.0</td>\n",
       "      <td>11.672584</td>\n",
       "      <td>286</td>\n",
       "      <td>11</td>\n",
       "      <td>0</td>\n",
       "    </tr>\n",
       "  </tbody>\n",
       "</table>\n",
       "<p>5 rows × 343 columns</p>\n",
       "</div>"
      ],
      "text/plain": [
       "   mean_saldo_medio_ult3  mean_saldo_medio_ult1  mean_saldo_medio_hace3  \\\n",
       "0               0.000000               0.000000                0.000000   \n",
       "1               5.344853               5.916563                3.232779   \n",
       "2               5.223912               5.833154                0.648847   \n",
       "3               5.294992               5.858761                0.000000   \n",
       "4               9.218883               9.468189                0.655791   \n",
       "\n",
       "   mean_saldo_medio_hace2  mean_saldo  var3  var15  imp_ent_var16_ult1  \\\n",
       "0                0.000000    0.000000     0     23                 0.0   \n",
       "1                4.090454    5.789128     0     34                 0.0   \n",
       "2                3.403428    5.673626     0     23                 0.0   \n",
       "3                3.879004    5.705782     0     37                 0.0   \n",
       "4                3.403428    9.993840     0     39                 0.0   \n",
       "\n",
       "   imp_op_var39_comer_ult1  imp_op_var39_comer_ult3   ...    \\\n",
       "0                      0.0                      0.0   ...     \n",
       "1                      0.0                      0.0   ...     \n",
       "2                      0.0                      0.0   ...     \n",
       "3                    195.0                    195.0   ...     \n",
       "4                      0.0                      0.0   ...     \n",
       "\n",
       "   saldo_medio_var33_ult1  saldo_medio_var33_ult3  saldo_medio_var44_hace2  \\\n",
       "0                     0.0                     0.0                      0.0   \n",
       "1                     0.0                     0.0                      0.0   \n",
       "2                     0.0                     0.0                      0.0   \n",
       "3                     0.0                     0.0                      0.0   \n",
       "4                     0.0                     0.0                      0.0   \n",
       "\n",
       "   saldo_medio_var44_hace3  saldo_medio_var44_ult1  saldo_medio_var44_ult3  \\\n",
       "0                      0.0                     0.0                     0.0   \n",
       "1                      0.0                     0.0                     0.0   \n",
       "2                      0.0                     0.0                     0.0   \n",
       "3                      0.0                     0.0                     0.0   \n",
       "4                      0.0                     0.0                     0.0   \n",
       "\n",
       "       var38  SumZeros  NumAssets  TARGET  \n",
       "0  10.576564       322          4       0  \n",
       "1  10.805234       296          9       0  \n",
       "2  11.117417       307          6       0  \n",
       "3  11.066763       276         13       0  \n",
       "4  11.672584       286         11       0  \n",
       "\n",
       "[5 rows x 343 columns]"
      ]
     },
     "execution_count": 34,
     "metadata": {},
     "output_type": "execute_result"
    }
   ],
   "source": [
    "data.head()"
   ]
  },
  {
   "cell_type": "code",
   "execution_count": null,
   "metadata": {
    "collapsed": false
   },
   "outputs": [],
   "source": [
    "data.describe()"
   ]
  },
  {
   "cell_type": "code",
   "execution_count": 35,
   "metadata": {
    "collapsed": true
   },
   "outputs": [],
   "source": [
    "data.to_csv('data/train_extended_saldo.csv', index=False)"
   ]
  },
  {
   "cell_type": "code",
   "execution_count": null,
   "metadata": {
    "collapsed": true
   },
   "outputs": [],
   "source": [
    "# drop the saldo features now\n",
    "data.drop(saldo_features, axis = 1, inplace = True)"
   ]
  },
  {
   "cell_type": "code",
   "execution_count": null,
   "metadata": {
    "collapsed": true
   },
   "outputs": [],
   "source": [
    "data.to_csv('data/train_saldo.csv', index=False)"
   ]
  },
  {
   "cell_type": "markdown",
   "metadata": {},
   "source": [
    "# Happy vs. Unhappy"
   ]
  },
  {
   "cell_type": "markdown",
   "metadata": {},
   "source": [
    "Since there are comparatively small number of unhappy customers, it makes sense to try to find patterns in the dataset of unsatisfied customers."
   ]
  },
  {
   "cell_type": "code",
   "execution_count": null,
   "metadata": {
    "collapsed": false
   },
   "outputs": [],
   "source": [
    "unhappy = data[data.TARGET == 1]\n",
    "happy = data[data.TARGET == 0]"
   ]
  },
  {
   "cell_type": "code",
   "execution_count": null,
   "metadata": {
    "collapsed": false
   },
   "outputs": [],
   "source": [
    "unhappy = unhappy.drop('TARGET', axis=1)\n",
    "happy = happy.drop('TARGET', axis=1)"
   ]
  },
  {
   "cell_type": "markdown",
   "metadata": {},
   "source": [
    "We want to learn about the difference between happy and unhappy."
   ]
  },
  {
   "cell_type": "code",
   "execution_count": null,
   "metadata": {
    "collapsed": false
   },
   "outputs": [],
   "source": [
    "unhappy.describe()"
   ]
  },
  {
   "cell_type": "code",
   "execution_count": null,
   "metadata": {
    "collapsed": false
   },
   "outputs": [],
   "source": [
    "happy.describe()"
   ]
  },
  {
   "cell_type": "code",
   "execution_count": null,
   "metadata": {
    "collapsed": false
   },
   "outputs": [],
   "source": [
    "def plot_happy_vs_unhappy(feature, n_bins = 20):\n",
    "     #figure = plt.figure(figsize = [15,5])\n",
    "    plt.title(feature)\n",
    "    # Plot the feature for happy\n",
    "    plt.hist(happy[feature], color='b', normed=True, histtype='step', bins = n_bins, label = 'happy')\n",
    "    # Plot the feature for unhappy\n",
    "    plt.hist(unhappy[feature], color='r', normed=True, histtype='step', bins = n_bins, label = 'unhappy')\n",
    "    plt.legend()\n",
    "    plt.show()"
   ]
  },
  {
   "cell_type": "code",
   "execution_count": null,
   "metadata": {
    "collapsed": true
   },
   "outputs": [],
   "source": [
    "def box_happy_vs_unhappy(feature):\n",
    "    figure = plt.figure(figsize = [15,10])\n",
    "    plt.title('happy vs. unhappy '+feature)\n",
    "    plt.subplot(1,2,1)\n",
    "    plt.boxplot(happy[feature])\n",
    "    plt.subplot(1,2,2)\n",
    "    plt.boxplot(unhappy[feature])\n",
    "    plt.show()"
   ]
  },
  {
   "cell_type": "code",
   "execution_count": null,
   "metadata": {
    "collapsed": false,
    "scrolled": true
   },
   "outputs": [],
   "source": [
    "# Plot new_features Happy vs Unhappy\n",
    "for name in new_features:\n",
    "    plot_happy_vs_unhappy(name)"
   ]
  },
  {
   "cell_type": "markdown",
   "metadata": {},
   "source": [
    "From the plots, we can expect these new features to have some ability to predict the target variable.\n",
    "\n",
    "What we can get out of these plots is that unhappy persons tend to have lower mean balance, which makes sense."
   ]
  },
  {
   "cell_type": "code",
   "execution_count": null,
   "metadata": {
    "collapsed": false,
    "scrolled": true
   },
   "outputs": [],
   "source": [
    "# Plot all the features Happy vs Unhappy\n",
    "for name in happy.columns:\n",
    "    plot_happy_vs_unhappy(name)"
   ]
  },
  {
   "cell_type": "markdown",
   "metadata": {},
   "source": [
    "### Box plots"
   ]
  },
  {
   "cell_type": "code",
   "execution_count": null,
   "metadata": {
    "collapsed": false,
    "scrolled": true
   },
   "outputs": [],
   "source": [
    "for name in new_features:\n",
    "    _ = sns.boxplot(x=data['TARGET'], y=data[name])\n",
    "    plt.show()"
   ]
  },
  {
   "cell_type": "markdown",
   "metadata": {},
   "source": [
    "These box plots confirm that these new features can have predicting power."
   ]
  },
  {
   "cell_type": "code",
   "execution_count": null,
   "metadata": {
    "collapsed": false,
    "scrolled": true
   },
   "outputs": [],
   "source": [
    "for name in data.columns[:-1]:\n",
    "    if len(data[name].unique()) > 10:\n",
    "        _ = sns.boxplot(x=data['TARGET'], y=data[name][data[name] != 0])\n",
    "        plt.show()"
   ]
  },
  {
   "cell_type": "code",
   "execution_count": null,
   "metadata": {
    "collapsed": false
   },
   "outputs": [],
   "source": [
    "unhappy['num_var5'].value_counts()"
   ]
  },
  {
   "cell_type": "markdown",
   "metadata": {},
   "source": [
    "From looking at these histograms there are a couple of things we notice:\n",
    "\n",
    "-A lot of the variables are hard-coded categorical with 1 and 0 options. (Of course, they are the ones starting with 'ind\\_var{}' wich stands for the spanish 'indicador' which means indicator variable."
   ]
  },
  {
   "cell_type": "markdown",
   "metadata": {},
   "source": [
    "Some thoughts:\n",
    "\n",
    "The real underlying variables are what it's named in the features as 'var{}', they probably indicate some financial product sold by Santander, the other features are are information about this underlyings. For example, "
   ]
  },
  {
   "cell_type": "code",
   "execution_count": null,
   "metadata": {
    "collapsed": false
   },
   "outputs": [],
   "source": [
    "len(data.var3.unique())"
   ]
  },
  {
   "cell_type": "markdown",
   "metadata": {
    "collapsed": false
   },
   "source": [
    "## Categorization of variables"
   ]
  },
  {
   "cell_type": "code",
   "execution_count": null,
   "metadata": {
    "collapsed": false
   },
   "outputs": [],
   "source": [
    "array = []\n",
    "for name in data.columns:\n",
    "    array.append((name,len(data[name].unique())))"
   ]
  },
  {
   "cell_type": "code",
   "execution_count": null,
   "metadata": {
    "collapsed": false
   },
   "outputs": [],
   "source": [
    "df = pd.DataFrame(array)\n",
    "df"
   ]
  },
  {
   "cell_type": "code",
   "execution_count": null,
   "metadata": {
    "collapsed": false
   },
   "outputs": [],
   "source": [
    "cat = df[df[1] == 2]\n",
    "cat"
   ]
  },
  {
   "cell_type": "code",
   "execution_count": null,
   "metadata": {
    "collapsed": false
   },
   "outputs": [],
   "source": [
    "for name in cat[0]:\n",
    "    if 'saldo' in name:\n",
    "        print(name)"
   ]
  },
  {
   "cell_type": "code",
   "execution_count": null,
   "metadata": {
    "collapsed": false
   },
   "outputs": [],
   "source": [
    "data['saldo_medio_var29_hace3'].value_counts()"
   ]
  },
  {
   "cell_type": "code",
   "execution_count": null,
   "metadata": {
    "collapsed": false
   },
   "outputs": [],
   "source": [
    "for name in data.columns:\n",
    "    if 'var29' in name:\n",
    "        print(data[name].value_counts())"
   ]
  },
  {
   "cell_type": "code",
   "execution_count": null,
   "metadata": {
    "collapsed": false,
    "scrolled": true
   },
   "outputs": [],
   "source": [
    "categorical = []\n",
    "for name in data.columns:\n",
    "    if 'ind_' in name:\n",
    "        categorical.append(name)\n",
    "categorical"
   ]
  },
  {
   "cell_type": "code",
   "execution_count": null,
   "metadata": {
    "collapsed": false
   },
   "outputs": [],
   "source": [
    "len(categorical)"
   ]
  },
  {
   "cell_type": "code",
   "execution_count": null,
   "metadata": {
    "collapsed": false,
    "scrolled": true
   },
   "outputs": [],
   "source": [
    "for name in categorical:\n",
    "    if 'op' not in name:\n",
    "        print('{} possible values for variable {}.'.format(len(data[name].unique()),name))"
   ]
  },
  {
   "cell_type": "code",
   "execution_count": null,
   "metadata": {
    "collapsed": false,
    "scrolled": true
   },
   "outputs": [],
   "source": [
    "data['num_var45_ult3'].value_counts()"
   ]
  },
  {
   "cell_type": "code",
   "execution_count": null,
   "metadata": {
    "collapsed": false
   },
   "outputs": [],
   "source": [
    "for name in data.columns:\n",
    "    if 'var45' in name:\n",
    "        print(name)"
   ]
  },
  {
   "cell_type": "code",
   "execution_count": null,
   "metadata": {
    "collapsed": true
   },
   "outputs": [],
   "source": [
    "# Turn these variables into honest categorical variables\n",
    "for name in categorical:\n",
    "    data[name] = data[name].astype('category')"
   ]
  },
  {
   "cell_type": "code",
   "execution_count": null,
   "metadata": {
    "collapsed": false,
    "scrolled": true
   },
   "outputs": [],
   "source": [
    "delta = []\n",
    "for name in data.columns:\n",
    "    if 'delta' in name:\n",
    "        delta.append(name)\n",
    "delta"
   ]
  },
  {
   "cell_type": "markdown",
   "metadata": {},
   "source": [
    "Note that among 'ind' and 'num' variables, there are some with the special keyword 'delta'.\n",
    "Nonetheless, they are also categorical."
   ]
  },
  {
   "cell_type": "code",
   "execution_count": null,
   "metadata": {
    "collapsed": false
   },
   "outputs": [],
   "source": [
    "for name in delta:\n",
    "    if 'num' in name:\n",
    "        print(data[name].value_counts())"
   ]
  }
 ],
 "metadata": {
  "kernelspec": {
   "display_name": "Python 3",
   "language": "python",
   "name": "python3"
  },
  "language_info": {
   "codemirror_mode": {
    "name": "ipython",
    "version": 3
   },
   "file_extension": ".py",
   "mimetype": "text/x-python",
   "name": "python",
   "nbconvert_exporter": "python",
   "pygments_lexer": "ipython3",
   "version": "3.5.2"
  }
 },
 "nbformat": 4,
 "nbformat_minor": 0
}
